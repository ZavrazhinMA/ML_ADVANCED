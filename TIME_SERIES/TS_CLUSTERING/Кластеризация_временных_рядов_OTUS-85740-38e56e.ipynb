{
 "cells": [
  {
   "cell_type": "code",
   "execution_count": 3,
   "metadata": {
    "datalore": {
     "hide_input_from_viewers": true,
     "hide_output_from_viewers": true,
     "node_id": "JOoYs7Whd3FNnl6wYgLOFT",
     "type": "CODE"
    },
    "executionInfo": {
     "elapsed": 1023,
     "status": "ok",
     "timestamp": 1727891637703,
     "user": {
      "displayName": "Алексей Кисляков",
      "userId": "17156844599462864761"
     },
     "user_tz": -180
    },
    "id": "NdpqeHcJEUsf"
   },
   "outputs": [],
   "source": [
    "# Кластеризация временных рядов\n",
    "import numpy as np\n",
    "import pandas as pd\n",
    "import matplotlib.pyplot as plt\n",
    "import warnings\n",
    "warnings.filterwarnings('ignore')"
   ]
  },
  {
   "cell_type": "code",
   "execution_count": 4,
   "metadata": {
    "colab": {
     "base_uri": "https://localhost:8080/",
     "height": 478
    },
    "datalore": {
     "hide_input_from_viewers": true,
     "hide_output_from_viewers": true,
     "node_id": "vGD649CAcXjd69ly5WPum5",
     "type": "CODE"
    },
    "executionInfo": {
     "elapsed": 2893,
     "status": "ok",
     "timestamp": 1727891640594,
     "user": {
      "displayName": "Алексей Кисляков",
      "userId": "17156844599462864761"
     },
     "user_tz": -180
    },
    "id": "V80m2znHEUsi",
    "outputId": "195d5e5c-75af-47a0-a690-e10e64995983"
   },
   "outputs": [
    {
     "data": {
      "text/html": [
       "<div>\n",
       "<style scoped>\n",
       "    .dataframe tbody tr th:only-of-type {\n",
       "        vertical-align: middle;\n",
       "    }\n",
       "\n",
       "    .dataframe tbody tr th {\n",
       "        vertical-align: top;\n",
       "    }\n",
       "\n",
       "    .dataframe thead th {\n",
       "        text-align: right;\n",
       "    }\n",
       "</style>\n",
       "<table border=\"1\" class=\"dataframe\">\n",
       "  <thead>\n",
       "    <tr style=\"text-align: right;\">\n",
       "      <th></th>\n",
       "      <th>Unnamed: 0</th>\n",
       "      <th>direction</th>\n",
       "      <th>month</th>\n",
       "      <th>country</th>\n",
       "      <th>code</th>\n",
       "      <th>measure</th>\n",
       "      <th>value</th>\n",
       "      <th>netto</th>\n",
       "      <th>quantity</th>\n",
       "      <th>region</th>\n",
       "      <th>district</th>\n",
       "    </tr>\n",
       "  </thead>\n",
       "  <tbody>\n",
       "    <tr>\n",
       "      <th>0</th>\n",
       "      <td>245</td>\n",
       "      <td>ИМ</td>\n",
       "      <td>2016-01-01</td>\n",
       "      <td>GB</td>\n",
       "      <td>8538909100</td>\n",
       "      <td>1</td>\n",
       "      <td>2315.00</td>\n",
       "      <td>5.0</td>\n",
       "      <td>0.00</td>\n",
       "      <td>17</td>\n",
       "      <td>1</td>\n",
       "    </tr>\n",
       "    <tr>\n",
       "      <th>1</th>\n",
       "      <td>590</td>\n",
       "      <td>ИМ</td>\n",
       "      <td>2016-01-01</td>\n",
       "      <td>IT</td>\n",
       "      <td>8505902009</td>\n",
       "      <td>1</td>\n",
       "      <td>585.00</td>\n",
       "      <td>1.0</td>\n",
       "      <td>0.00</td>\n",
       "      <td>17</td>\n",
       "      <td>1</td>\n",
       "    </tr>\n",
       "    <tr>\n",
       "      <th>2</th>\n",
       "      <td>705</td>\n",
       "      <td>ИМ</td>\n",
       "      <td>2016-01-01</td>\n",
       "      <td>TR</td>\n",
       "      <td>3907999000</td>\n",
       "      <td>1</td>\n",
       "      <td>3549.00</td>\n",
       "      <td>700.0</td>\n",
       "      <td>0.00</td>\n",
       "      <td>17</td>\n",
       "      <td>1</td>\n",
       "    </tr>\n",
       "    <tr>\n",
       "      <th>3</th>\n",
       "      <td>762</td>\n",
       "      <td>ИМ</td>\n",
       "      <td>2016-01-01</td>\n",
       "      <td>CN</td>\n",
       "      <td>7318149100</td>\n",
       "      <td>1</td>\n",
       "      <td>1.00</td>\n",
       "      <td>0.0</td>\n",
       "      <td>0.00</td>\n",
       "      <td>17</td>\n",
       "      <td>1</td>\n",
       "    </tr>\n",
       "    <tr>\n",
       "      <th>4</th>\n",
       "      <td>978</td>\n",
       "      <td>ИМ</td>\n",
       "      <td>2016-01-01</td>\n",
       "      <td>CN</td>\n",
       "      <td>7315111000</td>\n",
       "      <td>1</td>\n",
       "      <td>342.00</td>\n",
       "      <td>340.0</td>\n",
       "      <td>0.00</td>\n",
       "      <td>17</td>\n",
       "      <td>1</td>\n",
       "    </tr>\n",
       "    <tr>\n",
       "      <th>...</th>\n",
       "      <td>...</td>\n",
       "      <td>...</td>\n",
       "      <td>...</td>\n",
       "      <td>...</td>\n",
       "      <td>...</td>\n",
       "      <td>...</td>\n",
       "      <td>...</td>\n",
       "      <td>...</td>\n",
       "      <td>...</td>\n",
       "      <td>...</td>\n",
       "      <td>...</td>\n",
       "    </tr>\n",
       "    <tr>\n",
       "      <th>235942</th>\n",
       "      <td>25329119</td>\n",
       "      <td>ИМ</td>\n",
       "      <td>2021-12-01</td>\n",
       "      <td>LT</td>\n",
       "      <td>1520000000</td>\n",
       "      <td>1</td>\n",
       "      <td>156826.53</td>\n",
       "      <td>192170.0</td>\n",
       "      <td>0.00</td>\n",
       "      <td>17</td>\n",
       "      <td>1</td>\n",
       "    </tr>\n",
       "    <tr>\n",
       "      <th>235943</th>\n",
       "      <td>25329120</td>\n",
       "      <td>ЭК</td>\n",
       "      <td>2021-12-01</td>\n",
       "      <td>KZ</td>\n",
       "      <td>1006302500</td>\n",
       "      <td>1</td>\n",
       "      <td>35.15</td>\n",
       "      <td>15.0</td>\n",
       "      <td>0.00</td>\n",
       "      <td>17</td>\n",
       "      <td>1</td>\n",
       "    </tr>\n",
       "    <tr>\n",
       "      <th>235944</th>\n",
       "      <td>25338369</td>\n",
       "      <td>ЭК</td>\n",
       "      <td>2021-02-01</td>\n",
       "      <td>EE</td>\n",
       "      <td>4407129100</td>\n",
       "      <td>М3</td>\n",
       "      <td>100265.71</td>\n",
       "      <td>233072.0</td>\n",
       "      <td>501.23</td>\n",
       "      <td>17</td>\n",
       "      <td>1</td>\n",
       "    </tr>\n",
       "    <tr>\n",
       "      <th>235945</th>\n",
       "      <td>25338370</td>\n",
       "      <td>ЭК</td>\n",
       "      <td>2021-05-01</td>\n",
       "      <td>EE</td>\n",
       "      <td>4407129100</td>\n",
       "      <td>М3</td>\n",
       "      <td>185009.78</td>\n",
       "      <td>264090.0</td>\n",
       "      <td>589.20</td>\n",
       "      <td>17</td>\n",
       "      <td>1</td>\n",
       "    </tr>\n",
       "    <tr>\n",
       "      <th>235946</th>\n",
       "      <td>25338371</td>\n",
       "      <td>ЭК</td>\n",
       "      <td>2021-06-01</td>\n",
       "      <td>HU</td>\n",
       "      <td>4407119300</td>\n",
       "      <td>М3</td>\n",
       "      <td>10940.32</td>\n",
       "      <td>20929.6</td>\n",
       "      <td>40.64</td>\n",
       "      <td>17</td>\n",
       "      <td>1</td>\n",
       "    </tr>\n",
       "  </tbody>\n",
       "</table>\n",
       "<p>235947 rows × 11 columns</p>\n",
       "</div>"
      ],
      "text/plain": [
       "        Unnamed: 0 direction      month country        code measure  \\\n",
       "0              245        ИМ 2016-01-01      GB  8538909100       1   \n",
       "1              590        ИМ 2016-01-01      IT  8505902009       1   \n",
       "2              705        ИМ 2016-01-01      TR  3907999000       1   \n",
       "3              762        ИМ 2016-01-01      CN  7318149100       1   \n",
       "4              978        ИМ 2016-01-01      CN  7315111000       1   \n",
       "...            ...       ...        ...     ...         ...     ...   \n",
       "235942    25329119        ИМ 2021-12-01      LT  1520000000       1   \n",
       "235943    25329120        ЭК 2021-12-01      KZ  1006302500       1   \n",
       "235944    25338369        ЭК 2021-02-01      EE  4407129100      М3   \n",
       "235945    25338370        ЭК 2021-05-01      EE  4407129100      М3   \n",
       "235946    25338371        ЭК 2021-06-01      HU  4407119300      М3   \n",
       "\n",
       "            value     netto  quantity  region  district  \n",
       "0         2315.00       5.0      0.00      17         1  \n",
       "1          585.00       1.0      0.00      17         1  \n",
       "2         3549.00     700.0      0.00      17         1  \n",
       "3            1.00       0.0      0.00      17         1  \n",
       "4          342.00     340.0      0.00      17         1  \n",
       "...           ...       ...       ...     ...       ...  \n",
       "235942  156826.53  192170.0      0.00      17         1  \n",
       "235943      35.15      15.0      0.00      17         1  \n",
       "235944  100265.71  233072.0    501.23      17         1  \n",
       "235945  185009.78  264090.0    589.20      17         1  \n",
       "235946   10940.32   20929.6     40.64      17         1  \n",
       "\n",
       "[235947 rows x 11 columns]"
      ]
     },
     "execution_count": 4,
     "metadata": {},
     "output_type": "execute_result"
    }
   ],
   "source": [
    "# получение исходных данных\n",
    "# Пример - данные таможенной статистики - импорт и экспорт товаров\n",
    "# http://stat.customs.gov.ru/unload\n",
    "\n",
    "\n",
    "# Данные ФТС за январь, например, для Владимирской области:\n",
    "url = 'https://github.com/ankislyakov/ONI/raw/main/import_export_vl.csv'\n",
    "\n",
    "df = pd.read_csv(url, sep=';')\n",
    "df['month']= pd.to_datetime(df['month'])\n",
    "df"
   ]
  },
  {
   "cell_type": "code",
   "execution_count": 5,
   "metadata": {
    "datalore": {
     "hide_input_from_viewers": true,
     "hide_output_from_viewers": true,
     "node_id": "aOaACb7aPQ9UTqmje2sHnY",
     "type": "CODE"
    },
    "executionInfo": {
     "elapsed": 1964,
     "status": "ok",
     "timestamp": 1727891642548,
     "user": {
      "displayName": "Алексей Кисляков",
      "userId": "17156844599462864761"
     },
     "user_tz": -180
    },
    "id": "S6qAvCgjEUsj"
   },
   "outputs": [],
   "source": [
    "NOC = pd.read_html('https://www.artlebedev.ru/country-list/', encoding='utf8') [0] [['Наименование', 'Alpha2']]"
   ]
  },
  {
   "cell_type": "code",
   "execution_count": 6,
   "metadata": {
    "datalore": {
     "hide_input_from_viewers": true,
     "hide_output_from_viewers": true,
     "node_id": "LkpoZb4oup4g4yCFNHbJaJ",
     "type": "CODE"
    },
    "executionInfo": {
     "elapsed": 456,
     "status": "ok",
     "timestamp": 1727891643000,
     "user": {
      "displayName": "Алексей Кисляков",
      "userId": "17156844599462864761"
     },
     "user_tz": -180
    },
    "id": "SBt3zhBtEUsj"
   },
   "outputs": [],
   "source": [
    "df = df.merge(NOC, left_on='country', right_on='Alpha2')"
   ]
  },
  {
   "cell_type": "code",
   "execution_count": 7,
   "metadata": {
    "colab": {
     "base_uri": "https://localhost:8080/",
     "height": 206
    },
    "datalore": {
     "hide_input_from_viewers": true,
     "hide_output_from_viewers": true,
     "node_id": "5xgpo5SeNSM0PqSYsI4uJ9",
     "type": "CODE"
    },
    "executionInfo": {
     "elapsed": 7,
     "status": "ok",
     "timestamp": 1727891643000,
     "user": {
      "displayName": "Алексей Кисляков",
      "userId": "17156844599462864761"
     },
     "user_tz": -180
    },
    "id": "ZhPQDIFYEUsk",
    "outputId": "a555ac59-31e6-4df5-d4a3-b5c7b06c7dc6"
   },
   "outputs": [
    {
     "data": {
      "text/html": [
       "<div>\n",
       "<style scoped>\n",
       "    .dataframe tbody tr th:only-of-type {\n",
       "        vertical-align: middle;\n",
       "    }\n",
       "\n",
       "    .dataframe tbody tr th {\n",
       "        vertical-align: top;\n",
       "    }\n",
       "\n",
       "    .dataframe thead th {\n",
       "        text-align: right;\n",
       "    }\n",
       "</style>\n",
       "<table border=\"1\" class=\"dataframe\">\n",
       "  <thead>\n",
       "    <tr style=\"text-align: right;\">\n",
       "      <th></th>\n",
       "      <th>Unnamed: 0</th>\n",
       "      <th>direction</th>\n",
       "      <th>month</th>\n",
       "      <th>country</th>\n",
       "      <th>code</th>\n",
       "      <th>measure</th>\n",
       "      <th>value</th>\n",
       "      <th>netto</th>\n",
       "      <th>quantity</th>\n",
       "      <th>region</th>\n",
       "      <th>district</th>\n",
       "      <th>Наименование</th>\n",
       "      <th>Alpha2</th>\n",
       "    </tr>\n",
       "  </thead>\n",
       "  <tbody>\n",
       "    <tr>\n",
       "      <th>0</th>\n",
       "      <td>245</td>\n",
       "      <td>ИМ</td>\n",
       "      <td>2016-01-01</td>\n",
       "      <td>GB</td>\n",
       "      <td>8538909100</td>\n",
       "      <td>1</td>\n",
       "      <td>2315.0</td>\n",
       "      <td>5.0</td>\n",
       "      <td>0.0</td>\n",
       "      <td>17</td>\n",
       "      <td>1</td>\n",
       "      <td>Соединенное Королевство</td>\n",
       "      <td>GB</td>\n",
       "    </tr>\n",
       "    <tr>\n",
       "      <th>1</th>\n",
       "      <td>590</td>\n",
       "      <td>ИМ</td>\n",
       "      <td>2016-01-01</td>\n",
       "      <td>IT</td>\n",
       "      <td>8505902009</td>\n",
       "      <td>1</td>\n",
       "      <td>585.0</td>\n",
       "      <td>1.0</td>\n",
       "      <td>0.0</td>\n",
       "      <td>17</td>\n",
       "      <td>1</td>\n",
       "      <td>Италия</td>\n",
       "      <td>IT</td>\n",
       "    </tr>\n",
       "    <tr>\n",
       "      <th>2</th>\n",
       "      <td>705</td>\n",
       "      <td>ИМ</td>\n",
       "      <td>2016-01-01</td>\n",
       "      <td>TR</td>\n",
       "      <td>3907999000</td>\n",
       "      <td>1</td>\n",
       "      <td>3549.0</td>\n",
       "      <td>700.0</td>\n",
       "      <td>0.0</td>\n",
       "      <td>17</td>\n",
       "      <td>1</td>\n",
       "      <td>Турция</td>\n",
       "      <td>TR</td>\n",
       "    </tr>\n",
       "    <tr>\n",
       "      <th>3</th>\n",
       "      <td>762</td>\n",
       "      <td>ИМ</td>\n",
       "      <td>2016-01-01</td>\n",
       "      <td>CN</td>\n",
       "      <td>7318149100</td>\n",
       "      <td>1</td>\n",
       "      <td>1.0</td>\n",
       "      <td>0.0</td>\n",
       "      <td>0.0</td>\n",
       "      <td>17</td>\n",
       "      <td>1</td>\n",
       "      <td>Китай</td>\n",
       "      <td>CN</td>\n",
       "    </tr>\n",
       "    <tr>\n",
       "      <th>4</th>\n",
       "      <td>978</td>\n",
       "      <td>ИМ</td>\n",
       "      <td>2016-01-01</td>\n",
       "      <td>CN</td>\n",
       "      <td>7315111000</td>\n",
       "      <td>1</td>\n",
       "      <td>342.0</td>\n",
       "      <td>340.0</td>\n",
       "      <td>0.0</td>\n",
       "      <td>17</td>\n",
       "      <td>1</td>\n",
       "      <td>Китай</td>\n",
       "      <td>CN</td>\n",
       "    </tr>\n",
       "  </tbody>\n",
       "</table>\n",
       "</div>"
      ],
      "text/plain": [
       "   Unnamed: 0 direction      month country        code measure   value  netto  \\\n",
       "0         245        ИМ 2016-01-01      GB  8538909100       1  2315.0    5.0   \n",
       "1         590        ИМ 2016-01-01      IT  8505902009       1   585.0    1.0   \n",
       "2         705        ИМ 2016-01-01      TR  3907999000       1  3549.0  700.0   \n",
       "3         762        ИМ 2016-01-01      CN  7318149100       1     1.0    0.0   \n",
       "4         978        ИМ 2016-01-01      CN  7315111000       1   342.0  340.0   \n",
       "\n",
       "   quantity  region  district             Наименование Alpha2  \n",
       "0       0.0      17         1  Соединенное Королевство     GB  \n",
       "1       0.0      17         1                   Италия     IT  \n",
       "2       0.0      17         1                   Турция     TR  \n",
       "3       0.0      17         1                    Китай     CN  \n",
       "4       0.0      17         1                    Китай     CN  "
      ]
     },
     "execution_count": 7,
     "metadata": {},
     "output_type": "execute_result"
    }
   ],
   "source": [
    "df.head()"
   ]
  },
  {
   "cell_type": "code",
   "execution_count": 8,
   "metadata": {
    "colab": {
     "base_uri": "https://localhost:8080/",
     "height": 492
    },
    "datalore": {
     "hide_input_from_viewers": true,
     "hide_output_from_viewers": true,
     "node_id": "cml5EMCyyN66ourRX8CgCz",
     "type": "CODE"
    },
    "executionInfo": {
     "elapsed": 461,
     "status": "ok",
     "timestamp": 1727891643456,
     "user": {
      "displayName": "Алексей Кисляков",
      "userId": "17156844599462864761"
     },
     "user_tz": -180
    },
    "id": "HwUQZsANEUsk",
    "outputId": "cce18fbb-31d6-4409-cd52-d301f4eaaff8"
   },
   "outputs": [
    {
     "data": {
      "text/html": [
       "<div>\n",
       "<style scoped>\n",
       "    .dataframe tbody tr th:only-of-type {\n",
       "        vertical-align: middle;\n",
       "    }\n",
       "\n",
       "    .dataframe tbody tr th {\n",
       "        vertical-align: top;\n",
       "    }\n",
       "\n",
       "    .dataframe thead th {\n",
       "        text-align: right;\n",
       "    }\n",
       "</style>\n",
       "<table border=\"1\" class=\"dataframe\">\n",
       "  <thead>\n",
       "    <tr style=\"text-align: right;\">\n",
       "      <th>Наименование</th>\n",
       "      <th>Абхазия</th>\n",
       "      <th>Австралия</th>\n",
       "      <th>Австрия</th>\n",
       "      <th>Азербайджан</th>\n",
       "      <th>Алжир</th>\n",
       "      <th>Аргентина</th>\n",
       "      <th>Армения</th>\n",
       "      <th>Афганистан</th>\n",
       "      <th>Бангладеш</th>\n",
       "      <th>Беларусь</th>\n",
       "      <th>...</th>\n",
       "      <th>Финляндия</th>\n",
       "      <th>Франция</th>\n",
       "      <th>Хорватия</th>\n",
       "      <th>Чешская Республика</th>\n",
       "      <th>Чили</th>\n",
       "      <th>Швейцария</th>\n",
       "      <th>Швеция</th>\n",
       "      <th>Эстония</th>\n",
       "      <th>Южная Осетия</th>\n",
       "      <th>Япония</th>\n",
       "    </tr>\n",
       "    <tr>\n",
       "      <th>month</th>\n",
       "      <th></th>\n",
       "      <th></th>\n",
       "      <th></th>\n",
       "      <th></th>\n",
       "      <th></th>\n",
       "      <th></th>\n",
       "      <th></th>\n",
       "      <th></th>\n",
       "      <th></th>\n",
       "      <th></th>\n",
       "      <th></th>\n",
       "      <th></th>\n",
       "      <th></th>\n",
       "      <th></th>\n",
       "      <th></th>\n",
       "      <th></th>\n",
       "      <th></th>\n",
       "      <th></th>\n",
       "      <th></th>\n",
       "      <th></th>\n",
       "      <th></th>\n",
       "    </tr>\n",
       "  </thead>\n",
       "  <tbody>\n",
       "    <tr>\n",
       "      <th>2016-01-01</th>\n",
       "      <td>0.00</td>\n",
       "      <td>0.00</td>\n",
       "      <td>200747.00</td>\n",
       "      <td>309743.00</td>\n",
       "      <td>0.0</td>\n",
       "      <td>0.00</td>\n",
       "      <td>40897.00</td>\n",
       "      <td>0.0</td>\n",
       "      <td>0.00</td>\n",
       "      <td>3.004347e+06</td>\n",
       "      <td>...</td>\n",
       "      <td>46815.00</td>\n",
       "      <td>57244.00</td>\n",
       "      <td>0.00</td>\n",
       "      <td>19541.00</td>\n",
       "      <td>0.0</td>\n",
       "      <td>0.0</td>\n",
       "      <td>40644.00</td>\n",
       "      <td>239815.00</td>\n",
       "      <td>0.00</td>\n",
       "      <td>0.00</td>\n",
       "    </tr>\n",
       "    <tr>\n",
       "      <th>2016-02-01</th>\n",
       "      <td>57671.00</td>\n",
       "      <td>13558.00</td>\n",
       "      <td>217861.00</td>\n",
       "      <td>390348.00</td>\n",
       "      <td>22787888.0</td>\n",
       "      <td>0.00</td>\n",
       "      <td>515037.00</td>\n",
       "      <td>0.0</td>\n",
       "      <td>1963422.00</td>\n",
       "      <td>5.480527e+06</td>\n",
       "      <td>...</td>\n",
       "      <td>123759.00</td>\n",
       "      <td>137663.00</td>\n",
       "      <td>23506.00</td>\n",
       "      <td>180051.00</td>\n",
       "      <td>0.0</td>\n",
       "      <td>19894.0</td>\n",
       "      <td>40005.00</td>\n",
       "      <td>338436.00</td>\n",
       "      <td>0.00</td>\n",
       "      <td>0.00</td>\n",
       "    </tr>\n",
       "    <tr>\n",
       "      <th>2016-03-01</th>\n",
       "      <td>120573.00</td>\n",
       "      <td>9233.00</td>\n",
       "      <td>259206.00</td>\n",
       "      <td>1377297.00</td>\n",
       "      <td>0.0</td>\n",
       "      <td>0.00</td>\n",
       "      <td>774442.00</td>\n",
       "      <td>0.0</td>\n",
       "      <td>0.00</td>\n",
       "      <td>6.693229e+06</td>\n",
       "      <td>...</td>\n",
       "      <td>89977.00</td>\n",
       "      <td>68253.00</td>\n",
       "      <td>10128.00</td>\n",
       "      <td>122794.00</td>\n",
       "      <td>0.0</td>\n",
       "      <td>0.0</td>\n",
       "      <td>27870.00</td>\n",
       "      <td>437019.00</td>\n",
       "      <td>0.00</td>\n",
       "      <td>22562.00</td>\n",
       "    </tr>\n",
       "    <tr>\n",
       "      <th>2016-04-01</th>\n",
       "      <td>65525.00</td>\n",
       "      <td>4930.00</td>\n",
       "      <td>369505.00</td>\n",
       "      <td>957302.00</td>\n",
       "      <td>21098632.0</td>\n",
       "      <td>0.00</td>\n",
       "      <td>467735.00</td>\n",
       "      <td>0.0</td>\n",
       "      <td>0.00</td>\n",
       "      <td>5.495055e+06</td>\n",
       "      <td>...</td>\n",
       "      <td>134553.00</td>\n",
       "      <td>79776.00</td>\n",
       "      <td>36196.00</td>\n",
       "      <td>118997.00</td>\n",
       "      <td>0.0</td>\n",
       "      <td>2684.0</td>\n",
       "      <td>38379.00</td>\n",
       "      <td>388217.00</td>\n",
       "      <td>0.00</td>\n",
       "      <td>0.00</td>\n",
       "    </tr>\n",
       "    <tr>\n",
       "      <th>2016-05-01</th>\n",
       "      <td>98493.00</td>\n",
       "      <td>20549.00</td>\n",
       "      <td>109798.00</td>\n",
       "      <td>731748.00</td>\n",
       "      <td>1782349.0</td>\n",
       "      <td>0.00</td>\n",
       "      <td>360583.00</td>\n",
       "      <td>0.0</td>\n",
       "      <td>0.00</td>\n",
       "      <td>5.604224e+06</td>\n",
       "      <td>...</td>\n",
       "      <td>105503.00</td>\n",
       "      <td>41113.00</td>\n",
       "      <td>13876.00</td>\n",
       "      <td>67806.00</td>\n",
       "      <td>0.0</td>\n",
       "      <td>8376.0</td>\n",
       "      <td>52150.00</td>\n",
       "      <td>298519.00</td>\n",
       "      <td>0.00</td>\n",
       "      <td>0.00</td>\n",
       "    </tr>\n",
       "    <tr>\n",
       "      <th>...</th>\n",
       "      <td>...</td>\n",
       "      <td>...</td>\n",
       "      <td>...</td>\n",
       "      <td>...</td>\n",
       "      <td>...</td>\n",
       "      <td>...</td>\n",
       "      <td>...</td>\n",
       "      <td>...</td>\n",
       "      <td>...</td>\n",
       "      <td>...</td>\n",
       "      <td>...</td>\n",
       "      <td>...</td>\n",
       "      <td>...</td>\n",
       "      <td>...</td>\n",
       "      <td>...</td>\n",
       "      <td>...</td>\n",
       "      <td>...</td>\n",
       "      <td>...</td>\n",
       "      <td>...</td>\n",
       "      <td>...</td>\n",
       "      <td>...</td>\n",
       "    </tr>\n",
       "    <tr>\n",
       "      <th>2021-08-01</th>\n",
       "      <td>227869.81</td>\n",
       "      <td>0.00</td>\n",
       "      <td>339678.76</td>\n",
       "      <td>2481786.85</td>\n",
       "      <td>0.0</td>\n",
       "      <td>15124320.00</td>\n",
       "      <td>1579198.84</td>\n",
       "      <td>0.0</td>\n",
       "      <td>23235.30</td>\n",
       "      <td>1.826629e+07</td>\n",
       "      <td>...</td>\n",
       "      <td>216179.13</td>\n",
       "      <td>1790234.73</td>\n",
       "      <td>51334.54</td>\n",
       "      <td>1009205.78</td>\n",
       "      <td>0.0</td>\n",
       "      <td>0.0</td>\n",
       "      <td>57561.75</td>\n",
       "      <td>2628832.57</td>\n",
       "      <td>0.00</td>\n",
       "      <td>0.00</td>\n",
       "    </tr>\n",
       "    <tr>\n",
       "      <th>2021-09-01</th>\n",
       "      <td>233732.94</td>\n",
       "      <td>0.00</td>\n",
       "      <td>387498.48</td>\n",
       "      <td>2468056.96</td>\n",
       "      <td>24600655.0</td>\n",
       "      <td>12748480.91</td>\n",
       "      <td>2061603.70</td>\n",
       "      <td>0.0</td>\n",
       "      <td>0.00</td>\n",
       "      <td>1.286661e+07</td>\n",
       "      <td>...</td>\n",
       "      <td>205445.55</td>\n",
       "      <td>1796979.66</td>\n",
       "      <td>14013.60</td>\n",
       "      <td>588609.72</td>\n",
       "      <td>0.0</td>\n",
       "      <td>0.0</td>\n",
       "      <td>77759.99</td>\n",
       "      <td>3330291.15</td>\n",
       "      <td>4786.76</td>\n",
       "      <td>14799.56</td>\n",
       "    </tr>\n",
       "    <tr>\n",
       "      <th>2021-10-01</th>\n",
       "      <td>198276.85</td>\n",
       "      <td>2525.00</td>\n",
       "      <td>392344.36</td>\n",
       "      <td>2438697.83</td>\n",
       "      <td>0.0</td>\n",
       "      <td>62026.71</td>\n",
       "      <td>1894010.62</td>\n",
       "      <td>0.0</td>\n",
       "      <td>864142.31</td>\n",
       "      <td>1.072810e+07</td>\n",
       "      <td>...</td>\n",
       "      <td>70610.03</td>\n",
       "      <td>1642373.02</td>\n",
       "      <td>0.00</td>\n",
       "      <td>614221.38</td>\n",
       "      <td>0.0</td>\n",
       "      <td>0.0</td>\n",
       "      <td>58318.63</td>\n",
       "      <td>2411336.56</td>\n",
       "      <td>0.00</td>\n",
       "      <td>25771.70</td>\n",
       "    </tr>\n",
       "    <tr>\n",
       "      <th>2021-11-01</th>\n",
       "      <td>201297.13</td>\n",
       "      <td>15248.63</td>\n",
       "      <td>331246.30</td>\n",
       "      <td>2728712.47</td>\n",
       "      <td>0.0</td>\n",
       "      <td>0.00</td>\n",
       "      <td>2614964.85</td>\n",
       "      <td>0.0</td>\n",
       "      <td>812604.64</td>\n",
       "      <td>9.265825e+06</td>\n",
       "      <td>...</td>\n",
       "      <td>80813.43</td>\n",
       "      <td>1284935.53</td>\n",
       "      <td>6173.84</td>\n",
       "      <td>636169.21</td>\n",
       "      <td>7879.0</td>\n",
       "      <td>0.0</td>\n",
       "      <td>72591.26</td>\n",
       "      <td>1847530.41</td>\n",
       "      <td>3502.76</td>\n",
       "      <td>0.00</td>\n",
       "    </tr>\n",
       "    <tr>\n",
       "      <th>2021-12-01</th>\n",
       "      <td>136944.76</td>\n",
       "      <td>0.00</td>\n",
       "      <td>286824.07</td>\n",
       "      <td>3556808.98</td>\n",
       "      <td>19166820.0</td>\n",
       "      <td>0.00</td>\n",
       "      <td>1609145.57</td>\n",
       "      <td>0.0</td>\n",
       "      <td>0.00</td>\n",
       "      <td>1.148199e+07</td>\n",
       "      <td>...</td>\n",
       "      <td>155313.59</td>\n",
       "      <td>773324.75</td>\n",
       "      <td>21527.29</td>\n",
       "      <td>644726.30</td>\n",
       "      <td>0.0</td>\n",
       "      <td>5721.7</td>\n",
       "      <td>59758.44</td>\n",
       "      <td>1687250.10</td>\n",
       "      <td>5413.05</td>\n",
       "      <td>0.00</td>\n",
       "    </tr>\n",
       "  </tbody>\n",
       "</table>\n",
       "<p>72 rows × 76 columns</p>\n",
       "</div>"
      ],
      "text/plain": [
       "Наименование    Абхазия  Австралия    Австрия  Азербайджан       Алжир  \\\n",
       "month                                                                    \n",
       "2016-01-01         0.00       0.00  200747.00    309743.00         0.0   \n",
       "2016-02-01     57671.00   13558.00  217861.00    390348.00  22787888.0   \n",
       "2016-03-01    120573.00    9233.00  259206.00   1377297.00         0.0   \n",
       "2016-04-01     65525.00    4930.00  369505.00    957302.00  21098632.0   \n",
       "2016-05-01     98493.00   20549.00  109798.00    731748.00   1782349.0   \n",
       "...                 ...        ...        ...          ...         ...   \n",
       "2021-08-01    227869.81       0.00  339678.76   2481786.85         0.0   \n",
       "2021-09-01    233732.94       0.00  387498.48   2468056.96  24600655.0   \n",
       "2021-10-01    198276.85    2525.00  392344.36   2438697.83         0.0   \n",
       "2021-11-01    201297.13   15248.63  331246.30   2728712.47         0.0   \n",
       "2021-12-01    136944.76       0.00  286824.07   3556808.98  19166820.0   \n",
       "\n",
       "Наименование    Аргентина     Армения  Афганистан   Бангладеш      Беларусь  \\\n",
       "month                                                                         \n",
       "2016-01-01           0.00    40897.00         0.0        0.00  3.004347e+06   \n",
       "2016-02-01           0.00   515037.00         0.0  1963422.00  5.480527e+06   \n",
       "2016-03-01           0.00   774442.00         0.0        0.00  6.693229e+06   \n",
       "2016-04-01           0.00   467735.00         0.0        0.00  5.495055e+06   \n",
       "2016-05-01           0.00   360583.00         0.0        0.00  5.604224e+06   \n",
       "...                   ...         ...         ...         ...           ...   \n",
       "2021-08-01    15124320.00  1579198.84         0.0    23235.30  1.826629e+07   \n",
       "2021-09-01    12748480.91  2061603.70         0.0        0.00  1.286661e+07   \n",
       "2021-10-01       62026.71  1894010.62         0.0   864142.31  1.072810e+07   \n",
       "2021-11-01           0.00  2614964.85         0.0   812604.64  9.265825e+06   \n",
       "2021-12-01           0.00  1609145.57         0.0        0.00  1.148199e+07   \n",
       "\n",
       "Наименование  ...  Финляндия     Франция  Хорватия  Чешская Республика  \\\n",
       "month         ...                                                        \n",
       "2016-01-01    ...   46815.00    57244.00      0.00            19541.00   \n",
       "2016-02-01    ...  123759.00   137663.00  23506.00           180051.00   \n",
       "2016-03-01    ...   89977.00    68253.00  10128.00           122794.00   \n",
       "2016-04-01    ...  134553.00    79776.00  36196.00           118997.00   \n",
       "2016-05-01    ...  105503.00    41113.00  13876.00            67806.00   \n",
       "...           ...        ...         ...       ...                 ...   \n",
       "2021-08-01    ...  216179.13  1790234.73  51334.54          1009205.78   \n",
       "2021-09-01    ...  205445.55  1796979.66  14013.60           588609.72   \n",
       "2021-10-01    ...   70610.03  1642373.02      0.00           614221.38   \n",
       "2021-11-01    ...   80813.43  1284935.53   6173.84           636169.21   \n",
       "2021-12-01    ...  155313.59   773324.75  21527.29           644726.30   \n",
       "\n",
       "Наименование    Чили  Швейцария    Швеция     Эстония  Южная Осетия    Япония  \n",
       "month                                                                          \n",
       "2016-01-01       0.0        0.0  40644.00   239815.00          0.00      0.00  \n",
       "2016-02-01       0.0    19894.0  40005.00   338436.00          0.00      0.00  \n",
       "2016-03-01       0.0        0.0  27870.00   437019.00          0.00  22562.00  \n",
       "2016-04-01       0.0     2684.0  38379.00   388217.00          0.00      0.00  \n",
       "2016-05-01       0.0     8376.0  52150.00   298519.00          0.00      0.00  \n",
       "...              ...        ...       ...         ...           ...       ...  \n",
       "2021-08-01       0.0        0.0  57561.75  2628832.57          0.00      0.00  \n",
       "2021-09-01       0.0        0.0  77759.99  3330291.15       4786.76  14799.56  \n",
       "2021-10-01       0.0        0.0  58318.63  2411336.56          0.00  25771.70  \n",
       "2021-11-01    7879.0        0.0  72591.26  1847530.41       3502.76      0.00  \n",
       "2021-12-01       0.0     5721.7  59758.44  1687250.10       5413.05      0.00  \n",
       "\n",
       "[72 rows x 76 columns]"
      ]
     },
     "execution_count": 8,
     "metadata": {},
     "output_type": "execute_result"
    }
   ],
   "source": [
    "# для того, чтобы получить временные ряды, построим сводную таблицу по объемам экспорта\n",
    "tab = pd.pivot_table(df[df['direction']=='ЭК'],\n",
    "                     index='month',\n",
    "                     columns = 'Наименование',\n",
    "                     values = 'value',\n",
    "                     aggfunc='sum',\n",
    "                     fill_value=0,\n",
    "                     margins =False)\n",
    "\n",
    "tab=tab.drop(columns=tab.columns[((tab==0).mean()>0.8)],axis=1)\n",
    "tab"
   ]
  },
  {
   "cell_type": "code",
   "execution_count": 9,
   "metadata": {
    "colab": {
     "base_uri": "https://localhost:8080/"
    },
    "datalore": {
     "hide_input_from_viewers": true,
     "hide_output_from_viewers": true,
     "node_id": "3OZQUfHrpe5cvERJvvIdhu",
     "type": "CODE"
    },
    "executionInfo": {
     "elapsed": 6,
     "status": "ok",
     "timestamp": 1727891643456,
     "user": {
      "displayName": "Алексей Кисляков",
      "userId": "17156844599462864761"
     },
     "user_tz": -180
    },
    "id": "S5HA-ogHEUsk",
    "outputId": "4cdfc587-1f68-4e0a-f21b-5c8ce6702ed8"
   },
   "outputs": [
    {
     "data": {
      "text/plain": [
       "Index(['Абхазия', 'Австралия', 'Австрия', 'Азербайджан', 'Алжир', 'Аргентина',\n",
       "       'Армения', 'Афганистан', 'Бангладеш', 'Беларусь', 'Бельгия', 'Болгария',\n",
       "       'Бразилия', 'Венгрия', 'Вьетнам', 'Германия', 'Гонконг', 'Греция',\n",
       "       'Грузия', 'Дания', 'Египет', 'Израиль', 'Индия', 'Иордания', 'Ирак',\n",
       "       'Иран, Исламская Республика', 'Испания', 'Италия', 'Казахстан',\n",
       "       'Канада', 'Кипр', 'Киргизия', 'Китай', 'Колумбия', 'Корея, Республика',\n",
       "       'Куба', 'Кувейт', 'Латвия', 'Ливан', 'Литва', 'Люксембург', 'Малайзия',\n",
       "       'Мексика', 'Молдова, Республика', 'Монголия', 'Нидерланды', 'Норвегия',\n",
       "       'Объединенные Арабские Эмираты', 'Оман', 'Пакистан', 'Польша',\n",
       "       'Португалия', 'Румыния', 'Саудовская Аравия', 'Сербия', 'Словакия',\n",
       "       'Словения', 'Соединенное Королевство', 'Соединенные Штаты',\n",
       "       'Таджикистан', 'Таиланд', 'Тайвань (Китай)', 'Туркмения', 'Турция',\n",
       "       'Узбекистан', 'Украина', 'Финляндия', 'Франция', 'Хорватия',\n",
       "       'Чешская Республика', 'Чили', 'Швейцария', 'Швеция', 'Эстония',\n",
       "       'Южная Осетия', 'Япония'],\n",
       "      dtype='object', name='Наименование')"
      ]
     },
     "execution_count": 9,
     "metadata": {},
     "output_type": "execute_result"
    }
   ],
   "source": [
    "tab.columns"
   ]
  },
  {
   "cell_type": "code",
   "execution_count": 10,
   "metadata": {
    "colab": {
     "base_uri": "https://localhost:8080/",
     "height": 482
    },
    "datalore": {
     "hide_input_from_viewers": true,
     "hide_output_from_viewers": true,
     "node_id": "0l0vTji93PAEc6mcPZI01m",
     "type": "CODE"
    },
    "executionInfo": {
     "elapsed": 2093,
     "status": "ok",
     "timestamp": 1727891645544,
     "user": {
      "displayName": "Алексей Кисляков",
      "userId": "17156844599462864761"
     },
     "user_tz": -180
    },
    "id": "zsENdL94EUsl",
    "outputId": "fb67bf78-839e-484f-dcbf-d182a6c547f7"
   },
   "outputs": [
    {
     "data": {
      "text/plain": [
       "<Axes: xlabel='month'>"
      ]
     },
     "execution_count": 10,
     "metadata": {},
     "output_type": "execute_result"
    },
    {
     "data": {
      "image/png": "[encoded data removed]",
      "text/plain": [
       "<Figure size 640x480 with 1 Axes>"
      ]
     },
     "metadata": {},
     "output_type": "display_data"
    }
   ],
   "source": [
    "tab.loc[:,['Армения','Азербайджан']].plot()"
   ]
  },
  {
   "cell_type": "code",
   "execution_count": 11,
   "metadata": {
    "colab": {
     "base_uri": "https://localhost:8080/",
     "height": 482
    },
    "datalore": {
     "hide_input_from_viewers": true,
     "hide_output_from_viewers": true,
     "node_id": "liZFLddEWQ50axjXriOyMT",
     "type": "CODE"
    },
    "executionInfo": {
     "elapsed": 2350,
     "status": "ok",
     "timestamp": 1727891647890,
     "user": {
      "displayName": "Алексей Кисляков",
      "userId": "17156844599462864761"
     },
     "user_tz": -180
    },
    "id": "ixWkZ1f4EUsl",
    "outputId": "5f1200a6-129f-49b4-cf53-07bd429cd7d8"
   },
   "outputs": [
    {
     "data": {
      "text/plain": [
       "<Axes: xlabel='month'>"
      ]
     },
     "execution_count": 11,
     "metadata": {},
     "output_type": "execute_result"
    },
    {
     "data": {
      "image/png": "[encoded data removed]",
      "text/plain": [
       "<Figure size 640x480 with 1 Axes>"
      ]
     },
     "metadata": {},
     "output_type": "display_data"
    }
   ],
   "source": [
    "tab.plot(legend=False)"
   ]
  },
  {
   "cell_type": "code",
   "execution_count": 12,
   "metadata": {
    "datalore": {
     "hide_input_from_viewers": true,
     "hide_output_from_viewers": true,
     "node_id": "mCS4DX9Txol3rVlAOXYvS7",
     "type": "CODE"
    },
    "executionInfo": {
     "elapsed": 15,
     "status": "ok",
     "timestamp": 1727891647891,
     "user": {
      "displayName": "Алексей Кисляков",
      "userId": "17156844599462864761"
     },
     "user_tz": -180
    },
    "id": "bBtdp7N2EUsm"
   },
   "outputs": [],
   "source": [
    "# https://dynamictimewarping.github.io/python/"
   ]
  },
  {
   "cell_type": "code",
   "execution_count": 13,
   "metadata": {
    "datalore": {
     "hide_input_from_viewers": true,
     "hide_output_from_viewers": true,
     "node_id": "sxB0fkqCIQWNys7oBNto48",
     "type": "CODE"
    },
    "executionInfo": {
     "elapsed": 13,
     "status": "ok",
     "timestamp": 1727891647891,
     "user": {
      "displayName": "Алексей Кисляков",
      "userId": "17156844599462864761"
     },
     "user_tz": -180
    },
    "id": "otV3ZNrkEUsm"
   },
   "outputs": [],
   "source": [
    "# pip install dtw-python"
   ]
  },
  {
   "cell_type": "code",
   "execution_count": 31,
   "metadata": {
    "colab": {
     "base_uri": "https://localhost:8080/"
    },
    "datalore": {
     "hide_input_from_viewers": true,
     "hide_output_from_viewers": true,
     "node_id": "2A2dh36iNtx1KMZgHgO7KA",
     "type": "CODE"
    },
    "executionInfo": {
     "elapsed": 14291,
     "status": "ok",
     "timestamp": 1727891662170,
     "user": {
      "displayName": "Алексей Кисляков",
      "userId": "17156844599462864761"
     },
     "user_tz": -180
    },
    "id": "ePY92AcwEUsn",
    "outputId": "5a759be5-11af-49f5-f822-c0ad04200b15"
   },
   "outputs": [],
   "source": [
    "# pip install tslearn"
   ]
  },
  {
   "cell_type": "code",
   "execution_count": 15,
   "metadata": {
    "datalore": {
     "hide_input_from_viewers": true,
     "hide_output_from_viewers": true,
     "node_id": "8vMbskaBKUePEb3C6ehFhP",
     "type": "CODE"
    },
    "executionInfo": {
     "elapsed": 6,
     "status": "ok",
     "timestamp": 1727891662171,
     "user": {
      "displayName": "Алексей Кисляков",
      "userId": "17156844599462864761"
     },
     "user_tz": -180
    },
    "id": "wLB9X2GFEUso"
   },
   "outputs": [],
   "source": [
    "# Документация по библиотеке: https://tslearn.readthedocs.io/en/stable/auto_examples/metrics/plot_dtw_custom_metric.html"
   ]
  },
  {
   "cell_type": "code",
   "execution_count": 16,
   "metadata": {
    "colab": {
     "base_uri": "https://localhost:8080/"
    },
    "datalore": {
     "hide_input_from_viewers": true,
     "hide_output_from_viewers": true,
     "node_id": "4cHZ62gJPPjaLkYapaaGPl",
     "type": "CODE"
    },
    "executionInfo": {
     "elapsed": 6,
     "status": "ok",
     "timestamp": 1727891662171,
     "user": {
      "displayName": "Алексей Кисляков",
      "userId": "17156844599462864761"
     },
     "user_tz": -180
    },
    "id": "thxnRByZEUso",
    "outputId": "da87b7e2-3534-4c54-f778-13579c45efea"
   },
   "outputs": [
    {
     "data": {
      "text/plain": [
       "76"
      ]
     },
     "execution_count": 16,
     "metadata": {},
     "output_type": "execute_result"
    }
   ],
   "source": [
    "len(tab.columns)"
   ]
  },
  {
   "cell_type": "code",
   "execution_count": 17,
   "metadata": {
    "colab": {
     "base_uri": "https://localhost:8080/",
     "height": 80
    },
    "datalore": {
     "hide_input_from_viewers": true,
     "hide_output_from_viewers": true,
     "node_id": "q54zogoiGBxgeWM1cyDnaX",
     "type": "CODE"
    },
    "executionInfo": {
     "elapsed": 20910,
     "status": "ok",
     "timestamp": 1727891683076,
     "user": {
      "displayName": "Алексей Кисляков",
      "userId": "17156844599462864761"
     },
     "user_tz": -180
    },
    "id": "D2PJ8mJsEUso",
    "outputId": "ef985c2f-0138-4925-f772-4ab4c9fa78a8"
   },
   "outputs": [
    {
     "data": {
      "text/html": [
       "<style>#sk-container-id-1 {\n",
       "  /* Definition of color scheme common for light and dark mode */\n",
       "  --sklearn-color-text: black;\n",
       "  --sklearn-color-line: gray;\n",
       "  /* Definition of color scheme for unfitted estimators */\n",
       "  --sklearn-color-unfitted-level-0: #fff5e6;\n",
       "  --sklearn-color-unfitted-level-1: #f6e4d2;\n",
       "  --sklearn-color-unfitted-level-2: #ffe0b3;\n",
       "  --sklearn-color-unfitted-level-3: chocolate;\n",
       "  /* Definition of color scheme for fitted estimators */\n",
       "  --sklearn-color-fitted-level-0: #f0f8ff;\n",
       "  --sklearn-color-fitted-level-1: #d4ebff;\n",
       "  --sklearn-color-fitted-level-2: #b3dbfd;\n",
       "  --sklearn-color-fitted-level-3: cornflowerblue;\n",
       "\n",
       "  /* Specific color for light theme */\n",
       "  --sklearn-color-text-on-default-background: var(--sg-text-color, var(--theme-code-foreground, var(--jp-content-font-color1, black)));\n",
       "  --sklearn-color-background: var(--sg-background-color, var(--theme-background, var(--jp-layout-color0, white)));\n",
       "  --sklearn-color-border-box: var(--sg-text-color, var(--theme-code-foreground, var(--jp-content-font-color1, black)));\n",
       "  --sklearn-color-icon: #696969;\n",
       "\n",
       "  @media (prefers-color-scheme: dark) {\n",
       "    /* Redefinition of color scheme for dark theme */\n",
       "    --sklearn-color-text-on-default-background: var(--sg-text-color, var(--theme-code-foreground, var(--jp-content-font-color1, white)));\n",
       "    --sklearn-color-background: var(--sg-background-color, var(--theme-background, var(--jp-layout-color0, #111)));\n",
       "    --sklearn-color-border-box: var(--sg-text-color, var(--theme-code-foreground, var(--jp-content-font-color1, white)));\n",
       "    --sklearn-color-icon: #878787;\n",
       "  }\n",
       "}\n",
       "\n",
       "#sk-container-id-1 {\n",
       "  color: var(--sklearn-color-text);\n",
       "}\n",
       "\n",
       "#sk-container-id-1 pre {\n",
       "  padding: 0;\n",
       "}\n",
       "\n",
       "#sk-container-id-1 input.sk-hidden--visually {\n",
       "  border: 0;\n",
       "  clip: rect(1px 1px 1px 1px);\n",
       "  clip: rect(1px, 1px, 1px, 1px);\n",
       "  height: 1px;\n",
       "  margin: -1px;\n",
       "  overflow: hidden;\n",
       "  padding: 0;\n",
       "  position: absolute;\n",
       "  width: 1px;\n",
       "}\n",
       "\n",
       "#sk-container-id-1 div.sk-dashed-wrapped {\n",
       "  border: 1px dashed var(--sklearn-color-line);\n",
       "  margin: 0 0.4em 0.5em 0.4em;\n",
       "  box-sizing: border-box;\n",
       "  padding-bottom: 0.4em;\n",
       "  background-color: var(--sklearn-color-background);\n",
       "}\n",
       "\n",
       "#sk-container-id-1 div.sk-container {\n",
       "  /* jupyter's `normalize.less` sets `[hidden] { display: none; }`\n",
       "     but bootstrap.min.css set `[hidden] { display: none !important; }`\n",
       "     so we also need the `!important` here to be able to override the\n",
       "     default hidden behavior on the sphinx rendered scikit-learn.org.\n",
       "     See: https://github.com/scikit-learn/scikit-learn/issues/21755 */\n",
       "  display: inline-block !important;\n",
       "  position: relative;\n",
       "}\n",
       "\n",
       "#sk-container-id-1 div.sk-text-repr-fallback {\n",
       "  display: none;\n",
       "}\n",
       "\n",
       "div.sk-parallel-item,\n",
       "div.sk-serial,\n",
       "div.sk-item {\n",
       "  /* draw centered vertical line to link estimators */\n",
       "  background-image: linear-gradient(var(--sklearn-color-text-on-default-background), var(--sklearn-color-text-on-default-background));\n",
       "  background-size: 2px 100%;\n",
       "  background-repeat: no-repeat;\n",
       "  background-position: center center;\n",
       "}\n",
       "\n",
       "/* Parallel-specific style estimator block */\n",
       "\n",
       "#sk-container-id-1 div.sk-parallel-item::after {\n",
       "  content: \"\";\n",
       "  width: 100%;\n",
       "  border-bottom: 2px solid var(--sklearn-color-text-on-default-background);\n",
       "  flex-grow: 1;\n",
       "}\n",
       "\n",
       "#sk-container-id-1 div.sk-parallel {\n",
       "  display: flex;\n",
       "  align-items: stretch;\n",
       "  justify-content: center;\n",
       "  background-color: var(--sklearn-color-background);\n",
       "  position: relative;\n",
       "}\n",
       "\n",
       "#sk-container-id-1 div.sk-parallel-item {\n",
       "  display: flex;\n",
       "  flex-direction: column;\n",
       "}\n",
       "\n",
       "#sk-container-id-1 div.sk-parallel-item:first-child::after {\n",
       "  align-self: flex-end;\n",
       "  width: 50%;\n",
       "}\n",
       "\n",
       "#sk-container-id-1 div.sk-parallel-item:last-child::after {\n",
       "  align-self: flex-start;\n",
       "  width: 50%;\n",
       "}\n",
       "\n",
       "#sk-container-id-1 div.sk-parallel-item:only-child::after {\n",
       "  width: 0;\n",
       "}\n",
       "\n",
       "/* Serial-specific style estimator block */\n",
       "\n",
       "#sk-container-id-1 div.sk-serial {\n",
       "  display: flex;\n",
       "  flex-direction: column;\n",
       "  align-items: center;\n",
       "  background-color: var(--sklearn-color-background);\n",
       "  padding-right: 1em;\n",
       "  padding-left: 1em;\n",
       "}\n",
       "\n",
       "\n",
       "/* Toggleable style: style used for estimator/Pipeline/ColumnTransformer box that is\n",
       "clickable and can be expanded/collapsed.\n",
       "- Pipeline and ColumnTransformer use this feature and define the default style\n",
       "- Estimators will overwrite some part of the style using the `sk-estimator` class\n",
       "*/\n",
       "\n",
       "/* Pipeline and ColumnTransformer style (default) */\n",
       "\n",
       "#sk-container-id-1 div.sk-toggleable {\n",
       "  /* Default theme specific background. It is overwritten whether we have a\n",
       "  specific estimator or a Pipeline/ColumnTransformer */\n",
       "  background-color: var(--sklearn-color-background);\n",
       "}\n",
       "\n",
       "/* Toggleable label */\n",
       "#sk-container-id-1 label.sk-toggleable__label {\n",
       "  cursor: pointer;\n",
       "  display: block;\n",
       "  width: 100%;\n",
       "  margin-bottom: 0;\n",
       "  padding: 0.5em;\n",
       "  box-sizing: border-box;\n",
       "  text-align: center;\n",
       "}\n",
       "\n",
       "#sk-container-id-1 label.sk-toggleable__label-arrow:before {\n",
       "  /* Arrow on the left of the label */\n",
       "  content: \"▸\";\n",
       "  float: left;\n",
       "  margin-right: 0.25em;\n",
       "  color: var(--sklearn-color-icon);\n",
       "}\n",
       "\n",
       "#sk-container-id-1 label.sk-toggleable__label-arrow:hover:before {\n",
       "  color: var(--sklearn-color-text);\n",
       "}\n",
       "\n",
       "/* Toggleable content - dropdown */\n",
       "\n",
       "#sk-container-id-1 div.sk-toggleable__content {\n",
       "  max-height: 0;\n",
       "  max-width: 0;\n",
       "  overflow: hidden;\n",
       "  text-align: left;\n",
       "  /* unfitted */\n",
       "  background-color: var(--sklearn-color-unfitted-level-0);\n",
       "}\n",
       "\n",
       "#sk-container-id-1 div.sk-toggleable__content.fitted {\n",
       "  /* fitted */\n",
       "  background-color: var(--sklearn-color-fitted-level-0);\n",
       "}\n",
       "\n",
       "#sk-container-id-1 div.sk-toggleable__content pre {\n",
       "  margin: 0.2em;\n",
       "  border-radius: 0.25em;\n",
       "  color: var(--sklearn-color-text);\n",
       "  /* unfitted */\n",
       "  background-color: var(--sklearn-color-unfitted-level-0);\n",
       "}\n",
       "\n",
       "#sk-container-id-1 div.sk-toggleable__content.fitted pre {\n",
       "  /* unfitted */\n",
       "  background-color: var(--sklearn-color-fitted-level-0);\n",
       "}\n",
       "\n",
       "#sk-container-id-1 input.sk-toggleable__control:checked~div.sk-toggleable__content {\n",
       "  /* Expand drop-down */\n",
       "  max-height: 200px;\n",
       "  max-width: 100%;\n",
       "  overflow: auto;\n",
       "}\n",
       "\n",
       "#sk-container-id-1 input.sk-toggleable__control:checked~label.sk-toggleable__label-arrow:before {\n",
       "  content: \"▾\";\n",
       "}\n",
       "\n",
       "/* Pipeline/ColumnTransformer-specific style */\n",
       "\n",
       "#sk-container-id-1 div.sk-label input.sk-toggleable__control:checked~label.sk-toggleable__label {\n",
       "  color: var(--sklearn-color-text);\n",
       "  background-color: var(--sklearn-color-unfitted-level-2);\n",
       "}\n",
       "\n",
       "#sk-container-id-1 div.sk-label.fitted input.sk-toggleable__control:checked~label.sk-toggleable__label {\n",
       "  background-color: var(--sklearn-color-fitted-level-2);\n",
       "}\n",
       "\n",
       "/* Estimator-specific style */\n",
       "\n",
       "/* Colorize estimator box */\n",
       "#sk-container-id-1 div.sk-estimator input.sk-toggleable__control:checked~label.sk-toggleable__label {\n",
       "  /* unfitted */\n",
       "  background-color: var(--sklearn-color-unfitted-level-2);\n",
       "}\n",
       "\n",
       "#sk-container-id-1 div.sk-estimator.fitted input.sk-toggleable__control:checked~label.sk-toggleable__label {\n",
       "  /* fitted */\n",
       "  background-color: var(--sklearn-color-fitted-level-2);\n",
       "}\n",
       "\n",
       "#sk-container-id-1 div.sk-label label.sk-toggleable__label,\n",
       "#sk-container-id-1 div.sk-label label {\n",
       "  /* The background is the default theme color */\n",
       "  color: var(--sklearn-color-text-on-default-background);\n",
       "}\n",
       "\n",
       "/* On hover, darken the color of the background */\n",
       "#sk-container-id-1 div.sk-label:hover label.sk-toggleable__label {\n",
       "  color: var(--sklearn-color-text);\n",
       "  background-color: var(--sklearn-color-unfitted-level-2);\n",
       "}\n",
       "\n",
       "/* Label box, darken color on hover, fitted */\n",
       "#sk-container-id-1 div.sk-label.fitted:hover label.sk-toggleable__label.fitted {\n",
       "  color: var(--sklearn-color-text);\n",
       "  background-color: var(--sklearn-color-fitted-level-2);\n",
       "}\n",
       "\n",
       "/* Estimator label */\n",
       "\n",
       "#sk-container-id-1 div.sk-label label {\n",
       "  font-family: monospace;\n",
       "  font-weight: bold;\n",
       "  display: inline-block;\n",
       "  line-height: 1.2em;\n",
       "}\n",
       "\n",
       "#sk-container-id-1 div.sk-label-container {\n",
       "  text-align: center;\n",
       "}\n",
       "\n",
       "/* Estimator-specific */\n",
       "#sk-container-id-1 div.sk-estimator {\n",
       "  font-family: monospace;\n",
       "  border: 1px dotted var(--sklearn-color-border-box);\n",
       "  border-radius: 0.25em;\n",
       "  box-sizing: border-box;\n",
       "  margin-bottom: 0.5em;\n",
       "  /* unfitted */\n",
       "  background-color: var(--sklearn-color-unfitted-level-0);\n",
       "}\n",
       "\n",
       "#sk-container-id-1 div.sk-estimator.fitted {\n",
       "  /* fitted */\n",
       "  background-color: var(--sklearn-color-fitted-level-0);\n",
       "}\n",
       "\n",
       "/* on hover */\n",
       "#sk-container-id-1 div.sk-estimator:hover {\n",
       "  /* unfitted */\n",
       "  background-color: var(--sklearn-color-unfitted-level-2);\n",
       "}\n",
       "\n",
       "#sk-container-id-1 div.sk-estimator.fitted:hover {\n",
       "  /* fitted */\n",
       "  background-color: var(--sklearn-color-fitted-level-2);\n",
       "}\n",
       "\n",
       "/* Specification for estimator info (e.g. \"i\" and \"?\") */\n",
       "\n",
       "/* Common style for \"i\" and \"?\" */\n",
       "\n",
       ".sk-estimator-doc-link,\n",
       "a:link.sk-estimator-doc-link,\n",
       "a:visited.sk-estimator-doc-link {\n",
       "  float: right;\n",
       "  font-size: smaller;\n",
       "  line-height: 1em;\n",
       "  font-family: monospace;\n",
       "  background-color: var(--sklearn-color-background);\n",
       "  border-radius: 1em;\n",
       "  height: 1em;\n",
       "  width: 1em;\n",
       "  text-decoration: none !important;\n",
       "  margin-left: 1ex;\n",
       "  /* unfitted */\n",
       "  border: var(--sklearn-color-unfitted-level-1) 1pt solid;\n",
       "  color: var(--sklearn-color-unfitted-level-1);\n",
       "}\n",
       "\n",
       ".sk-estimator-doc-link.fitted,\n",
       "a:link.sk-estimator-doc-link.fitted,\n",
       "a:visited.sk-estimator-doc-link.fitted {\n",
       "  /* fitted */\n",
       "  border: var(--sklearn-color-fitted-level-1) 1pt solid;\n",
       "  color: var(--sklearn-color-fitted-level-1);\n",
       "}\n",
       "\n",
       "/* On hover */\n",
       "div.sk-estimator:hover .sk-estimator-doc-link:hover,\n",
       ".sk-estimator-doc-link:hover,\n",
       "div.sk-label-container:hover .sk-estimator-doc-link:hover,\n",
       ".sk-estimator-doc-link:hover {\n",
       "  /* unfitted */\n",
       "  background-color: var(--sklearn-color-unfitted-level-3);\n",
       "  color: var(--sklearn-color-background);\n",
       "  text-decoration: none;\n",
       "}\n",
       "\n",
       "div.sk-estimator.fitted:hover .sk-estimator-doc-link.fitted:hover,\n",
       ".sk-estimator-doc-link.fitted:hover,\n",
       "div.sk-label-container:hover .sk-estimator-doc-link.fitted:hover,\n",
       ".sk-estimator-doc-link.fitted:hover {\n",
       "  /* fitted */\n",
       "  background-color: var(--sklearn-color-fitted-level-3);\n",
       "  color: var(--sklearn-color-background);\n",
       "  text-decoration: none;\n",
       "}\n",
       "\n",
       "/* Span, style for the box shown on hovering the info icon */\n",
       ".sk-estimator-doc-link span {\n",
       "  display: none;\n",
       "  z-index: 9999;\n",
       "  position: relative;\n",
       "  font-weight: normal;\n",
       "  right: .2ex;\n",
       "  padding: .5ex;\n",
       "  margin: .5ex;\n",
       "  width: min-content;\n",
       "  min-width: 20ex;\n",
       "  max-width: 50ex;\n",
       "  color: var(--sklearn-color-text);\n",
       "  box-shadow: 2pt 2pt 4pt #999;\n",
       "  /* unfitted */\n",
       "  background: var(--sklearn-color-unfitted-level-0);\n",
       "  border: .5pt solid var(--sklearn-color-unfitted-level-3);\n",
       "}\n",
       "\n",
       ".sk-estimator-doc-link.fitted span {\n",
       "  /* fitted */\n",
       "  background: var(--sklearn-color-fitted-level-0);\n",
       "  border: var(--sklearn-color-fitted-level-3);\n",
       "}\n",
       "\n",
       ".sk-estimator-doc-link:hover span {\n",
       "  display: block;\n",
       "}\n",
       "\n",
       "/* \"?\"-specific style due to the `<a>` HTML tag */\n",
       "\n",
       "#sk-container-id-1 a.estimator_doc_link {\n",
       "  float: right;\n",
       "  font-size: 1rem;\n",
       "  line-height: 1em;\n",
       "  font-family: monospace;\n",
       "  background-color: var(--sklearn-color-background);\n",
       "  border-radius: 1rem;\n",
       "  height: 1rem;\n",
       "  width: 1rem;\n",
       "  text-decoration: none;\n",
       "  /* unfitted */\n",
       "  color: var(--sklearn-color-unfitted-level-1);\n",
       "  border: var(--sklearn-color-unfitted-level-1) 1pt solid;\n",
       "}\n",
       "\n",
       "#sk-container-id-1 a.estimator_doc_link.fitted {\n",
       "  /* fitted */\n",
       "  border: var(--sklearn-color-fitted-level-1) 1pt solid;\n",
       "  color: var(--sklearn-color-fitted-level-1);\n",
       "}\n",
       "\n",
       "/* On hover */\n",
       "#sk-container-id-1 a.estimator_doc_link:hover {\n",
       "  /* unfitted */\n",
       "  background-color: var(--sklearn-color-unfitted-level-3);\n",
       "  color: var(--sklearn-color-background);\n",
       "  text-decoration: none;\n",
       "}\n",
       "\n",
       "#sk-container-id-1 a.estimator_doc_link.fitted:hover {\n",
       "  /* fitted */\n",
       "  background-color: var(--sklearn-color-fitted-level-3);\n",
       "}\n",
       "</style><div id=\"sk-container-id-1\" class=\"sk-top-container\"><div class=\"sk-text-repr-fallback\"><pre>TimeSeriesKMeans(max_iter=100, metric=&#x27;dtw&#x27;, random_state=42)</pre><b>In a Jupyter environment, please rerun this cell to show the HTML representation or trust the notebook. <br />On GitHub, the HTML representation is unable to render, please try loading this page with nbviewer.org.</b></div><div class=\"sk-container\" hidden><div class=\"sk-item\"><div class=\"sk-estimator fitted sk-toggleable\"><input class=\"sk-toggleable__control sk-hidden--visually\" id=\"sk-estimator-id-1\" type=\"checkbox\" checked><label for=\"sk-estimator-id-1\" class=\"sk-toggleable__label fitted sk-toggleable__label-arrow fitted\">&nbsp;TimeSeriesKMeans<span class=\"sk-estimator-doc-link fitted\">i<span>Fitted</span></span></label><div class=\"sk-toggleable__content fitted\"><pre>TimeSeriesKMeans(max_iter=100, metric=&#x27;dtw&#x27;, random_state=42)</pre></div> </div></div></div></div>"
      ],
      "text/plain": [
       "TimeSeriesKMeans(max_iter=100, metric='dtw', random_state=42)"
      ]
     },
     "execution_count": 17,
     "metadata": {},
     "output_type": "execute_result"
    }
   ],
   "source": [
    "from tslearn.clustering import TimeSeriesKMeans\n",
    "model = TimeSeriesKMeans(n_clusters=3, metric=\"dtw\",\n",
    "                         max_iter=100, random_state=42)\n",
    "model.fit(tab.T)"
   ]
  },
  {
   "cell_type": "code",
   "execution_count": 18,
   "metadata": {
    "colab": {
     "base_uri": "https://localhost:8080/",
     "height": 209
    },
    "datalore": {
     "hide_input_from_viewers": true,
     "hide_output_from_viewers": true,
     "node_id": "kSfSXO9au8E07qDHXkCqYt",
     "type": "CODE"
    },
    "executionInfo": {
     "elapsed": 34,
     "status": "ok",
     "timestamp": 1727891683077,
     "user": {
      "displayName": "Алексей Кисляков",
      "userId": "17156844599462864761"
     },
     "user_tz": -180
    },
    "id": "kTg_-snUEUso",
    "outputId": "2a01f49f-eb87-41b1-9551-e575b5af460a"
   },
   "outputs": [
    {
     "data": {
      "text/plain": [
       "0\n",
       "0    71\n",
       "2     3\n",
       "1     2\n",
       "Name: count, dtype: int64"
      ]
     },
     "execution_count": 18,
     "metadata": {},
     "output_type": "execute_result"
    }
   ],
   "source": [
    "pd.DataFrame(model.labels_).value_counts()"
   ]
  },
  {
   "cell_type": "code",
   "execution_count": 19,
   "metadata": {
    "colab": {
     "base_uri": "https://localhost:8080/"
    },
    "datalore": {
     "hide_input_from_viewers": true,
     "hide_output_from_viewers": true,
     "node_id": "JEHJ6zmx7rZuIIZLaglbZT",
     "type": "CODE"
    },
    "executionInfo": {
     "elapsed": 32,
     "status": "ok",
     "timestamp": 1727891683077,
     "user": {
      "displayName": "Алексей Кисляков",
      "userId": "17156844599462864761"
     },
     "user_tz": -180
    },
    "id": "xsKdckntEUso",
    "outputId": "bf8a6db1-5148-46f5-a2b5-9f7cff7184dd"
   },
   "outputs": [
    {
     "data": {
      "text/plain": [
       "array([0, 0, 0, 0, 2, 0, 0, 0, 0, 1, 0, 0, 0, 0, 0, 0, 0, 0, 0, 0, 0, 0,\n",
       "       2, 0, 2, 0, 0, 0, 1, 0, 0, 0, 0, 0, 0, 0, 0, 0, 0, 0, 0, 0, 0, 0,\n",
       "       0, 0, 0, 0, 0, 0, 0, 0, 0, 0, 0, 0, 0, 0, 0, 0, 0, 0, 0, 0, 0, 0,\n",
       "       0, 0, 0, 0, 0, 0, 0, 0, 0, 0], dtype=int64)"
      ]
     },
     "execution_count": 19,
     "metadata": {},
     "output_type": "execute_result"
    }
   ],
   "source": [
    "model.labels_"
   ]
  },
  {
   "cell_type": "code",
   "execution_count": 20,
   "metadata": {
    "colab": {
     "base_uri": "https://localhost:8080/"
    },
    "executionInfo": {
     "elapsed": 30,
     "status": "ok",
     "timestamp": 1727891683078,
     "user": {
      "displayName": "Алексей Кисляков",
      "userId": "17156844599462864761"
     },
     "user_tz": -180
    },
    "id": "bQNFGTf96dHM",
    "outputId": "d5e00aef-a38e-4e80-a315-2dce833897f7"
   },
   "outputs": [
    {
     "data": {
      "text/plain": [
       "76"
      ]
     },
     "execution_count": 20,
     "metadata": {},
     "output_type": "execute_result"
    }
   ],
   "source": [
    "len(model.labels_)"
   ]
  },
  {
   "cell_type": "code",
   "execution_count": 21,
   "metadata": {
    "colab": {
     "base_uri": "https://localhost:8080/",
     "height": 143
    },
    "datalore": {
     "hide_input_from_viewers": true,
     "hide_output_from_viewers": true,
     "node_id": "K6gVmsXrNIBGCvjm2eGQqx",
     "type": "CODE"
    },
    "executionInfo": {
     "elapsed": 27,
     "status": "ok",
     "timestamp": 1727891683078,
     "user": {
      "displayName": "Алексей Кисляков",
      "userId": "17156844599462864761"
     },
     "user_tz": -180
    },
    "id": "pE8c8NG7EUso",
    "outputId": "6a7a1a3b-0f7e-49b9-e8b1-8ada6fc79668"
   },
   "outputs": [
    {
     "data": {
      "text/html": [
       "<div>\n",
       "<style scoped>\n",
       "    .dataframe tbody tr th:only-of-type {\n",
       "        vertical-align: middle;\n",
       "    }\n",
       "\n",
       "    .dataframe tbody tr th {\n",
       "        vertical-align: top;\n",
       "    }\n",
       "\n",
       "    .dataframe thead th {\n",
       "        text-align: right;\n",
       "    }\n",
       "</style>\n",
       "<table border=\"1\" class=\"dataframe\">\n",
       "  <thead>\n",
       "    <tr style=\"text-align: right;\">\n",
       "      <th></th>\n",
       "      <th>NOC</th>\n",
       "      <th>label</th>\n",
       "    </tr>\n",
       "  </thead>\n",
       "  <tbody>\n",
       "    <tr>\n",
       "      <th>4</th>\n",
       "      <td>Алжир</td>\n",
       "      <td>2</td>\n",
       "    </tr>\n",
       "    <tr>\n",
       "      <th>22</th>\n",
       "      <td>Индия</td>\n",
       "      <td>2</td>\n",
       "    </tr>\n",
       "    <tr>\n",
       "      <th>24</th>\n",
       "      <td>Ирак</td>\n",
       "      <td>2</td>\n",
       "    </tr>\n",
       "  </tbody>\n",
       "</table>\n",
       "</div>"
      ],
      "text/plain": [
       "      NOC label\n",
       "4   Алжир     2\n",
       "22  Индия     2\n",
       "24   Ирак     2"
      ]
     },
     "execution_count": 21,
     "metadata": {},
     "output_type": "execute_result"
    }
   ],
   "source": [
    "lab = pd.DataFrame([tab.columns, model.labels_], index = ['NOC', 'label']).T\n",
    "lab[lab.label == 2]"
   ]
  },
  {
   "cell_type": "code",
   "execution_count": 22,
   "metadata": {
    "colab": {
     "base_uri": "https://localhost:8080/"
    },
    "datalore": {
     "hide_input_from_viewers": true,
     "hide_output_from_viewers": true,
     "node_id": "daatZ20nsWMMY3vES7JNsR",
     "type": "CODE"
    },
    "executionInfo": {
     "elapsed": 24,
     "status": "ok",
     "timestamp": 1727891683078,
     "user": {
      "displayName": "Алексей Кисляков",
      "userId": "17156844599462864761"
     },
     "user_tz": -180
    },
    "id": "U20_-5kREUso",
    "outputId": "d7e3da1b-5511-4429-f7ab-626006061dcf"
   },
   "outputs": [
    {
     "data": {
      "text/plain": [
       "['Беларусь', 'Казахстан']"
      ]
     },
     "execution_count": 22,
     "metadata": {},
     "output_type": "execute_result"
    }
   ],
   "source": [
    "lab[lab.label == 1] ['NOC'].values.tolist()"
   ]
  },
  {
   "cell_type": "code",
   "execution_count": 23,
   "metadata": {
    "colab": {
     "base_uri": "https://localhost:8080/",
     "height": 482
    },
    "datalore": {
     "hide_input_from_viewers": true,
     "hide_output_from_viewers": true,
     "node_id": "4aUH6BQc5WIbih9q1gu7W3",
     "type": "CODE"
    },
    "executionInfo": {
     "elapsed": 2064,
     "status": "ok",
     "timestamp": 1727891685122,
     "user": {
      "displayName": "Алексей Кисляков",
      "userId": "17156844599462864761"
     },
     "user_tz": -180
    },
    "id": "d3BflympEUsp",
    "outputId": "8742e668-553a-4b23-ae64-c12642901778"
   },
   "outputs": [
    {
     "data": {
      "text/plain": [
       "<Axes: xlabel='month'>"
      ]
     },
     "execution_count": 23,
     "metadata": {},
     "output_type": "execute_result"
    },
    {
     "data": {
      "image/png": "[encoded data removed]",
      "text/plain": [
       "<Figure size 640x480 with 1 Axes>"
      ]
     },
     "metadata": {},
     "output_type": "display_data"
    }
   ],
   "source": [
    "tab.loc[:,lab[lab.label == 1] ['NOC'].values.tolist()].plot()"
   ]
  },
  {
   "cell_type": "code",
   "execution_count": 24,
   "metadata": {
    "colab": {
     "base_uri": "https://localhost:8080/"
    },
    "datalore": {
     "hide_input_from_viewers": true,
     "hide_output_from_viewers": true,
     "node_id": "1iIWWdqmuiLfJdcA67moGy",
     "type": "CODE"
    },
    "executionInfo": {
     "elapsed": 10,
     "status": "ok",
     "timestamp": 1727891685122,
     "user": {
      "displayName": "Алексей Кисляков",
      "userId": "17156844599462864761"
     },
     "user_tz": -180
    },
    "id": "PfJFlitjEUsp",
    "outputId": "f6ddfc21-cdad-47d8-d05f-32c1b4135c54"
   },
   "outputs": [
    {
     "data": {
      "text/plain": [
       "93903265345497.39"
      ]
     },
     "execution_count": 24,
     "metadata": {},
     "output_type": "execute_result"
    }
   ],
   "source": [
    "# Сумма квадратов расстояний точек до их ближайшего центра кластера\n",
    "model.inertia_"
   ]
  },
  {
   "cell_type": "markdown",
   "metadata": {
    "datalore": {
     "hide_input_from_viewers": true,
     "hide_output_from_viewers": true,
     "node_id": "f2ixD6aLYigL7KtDVGmXNR",
     "type": "MD"
    },
    "id": "7HBw6NgHEUsp"
   },
   "source": [
    "По мере возрастания численности кластеров, члены каждого из них становятся больше похожи друг на друга, но соседние кластеры при этом становятся менее различимы. Число кластеров должно быть достаточно велико, чтобы позволить выявить важные закономерности, но не слишком, чтобы кластеры сохраняли отчетливые различия. Одним из способов определить оптимальное количество кластеров является использование так называемого графика каменистой осыпи, или графика Кеттела (scree plot)"
   ]
  },
  {
   "cell_type": "code",
   "execution_count": 25,
   "metadata": {
    "colab": {
     "base_uri": "https://localhost:8080/",
     "height": 469
    },
    "datalore": {
     "hide_input_from_viewers": true,
     "hide_output_from_viewers": true,
     "node_id": "SoTt8rNs8Vq5ulsnuddKId",
     "type": "CODE"
    },
    "executionInfo": {
     "elapsed": 34479,
     "status": "ok",
     "timestamp": 1727891719592,
     "user": {
      "displayName": "Алексей Кисляков",
      "userId": "17156844599462864761"
     },
     "user_tz": -180
    },
    "id": "PzW-ChuvEUsq",
    "outputId": "b01dcd3a-3d0c-410f-8925-a7fe5744878f"
   },
   "outputs": [
    {
     "data": {
      "image/png": "[encoded data removed]",
      "text/plain": [
       "<Figure size 640x480 with 1 Axes>"
      ]
     },
     "metadata": {},
     "output_type": "display_data"
    }
   ],
   "source": [
    "# Для выбора количества кластеров необходимо оценить внутрикластерное разнообразие\n",
    "\n",
    "inertia = []\n",
    "for k in range(1, 10):\n",
    "\n",
    "    model = TimeSeriesKMeans(n_clusters=k, metric=\"dtw\",\n",
    "                         max_iter=100, random_state=42)\n",
    "    model.fit(tab.T)\n",
    "\n",
    "    inertia.append(np.sqrt(model.inertia_))\n",
    "\n",
    "plt.plot(range(1, 10), inertia, marker='s')\n",
    "plt.xlabel('$количество кластеров k$')\n",
    "plt.ylabel('$J(C_k)$');\n",
    "\n",
    "# Этот метод также получил название \"метод локтевого изгиба\""
   ]
  },
  {
   "cell_type": "markdown",
   "metadata": {
    "datalore": {
     "hide_input_from_viewers": true,
     "hide_output_from_viewers": true,
     "node_id": "R9FHTqbcnCeyshn27QwgJc",
     "type": "MD"
    },
    "id": "8e9VPHk1EUsq"
   },
   "source": [
    "Излом — это острый изгиб на графике осыпи, который предлагает оптимальное число кластеров, исходя из разумной степени внутрикластерного разнообразия, которое характеризыется расстоянием точек до их ближайшего центра кластера"
   ]
  },
  {
   "cell_type": "code",
   "execution_count": 26,
   "metadata": {
    "colab": {
     "base_uri": "https://localhost:8080/",
     "height": 616
    },
    "datalore": {
     "hide_input_from_viewers": true,
     "hide_output_from_viewers": true,
     "node_id": "BJGmyw2FGSlWIRv3OaZEVq",
     "type": "CODE"
    },
    "executionInfo": {
     "elapsed": 1426,
     "status": "ok",
     "timestamp": 1727891721014,
     "user": {
      "displayName": "Алексей Кисляков",
      "userId": "17156844599462864761"
     },
     "user_tz": -180
    },
    "id": "VG1KEeCEEUsq",
    "outputId": "b69f0b9a-241b-4f2c-95b6-15f1aa567ee1"
   },
   "outputs": [
    {
     "data": {
      "image/png": "[encoded data removed]",
      "text/plain": [
       "<Figure size 2500x1000 with 1 Axes>"
      ]
     },
     "metadata": {},
     "output_type": "display_data"
    }
   ],
   "source": [
    "# https://docs.scipy.org/doc/scipy/reference/generated/scipy.cluster.hierarchy.linkage.html\n",
    "\n",
    "import seaborn as sns\n",
    "from scipy import stats\n",
    "import scipy.cluster.hierarchy as hac\n",
    "Z = hac.linkage(tab.T, method='ward', metric='euclidean')\n",
    "\n",
    "plt.figure(figsize=(25, 10))\n",
    "plt.title('Hierarchical Clustering Dendrogram')\n",
    "plt.xlabel('sample index')\n",
    "plt.ylabel('distance')\n",
    "hac.dendrogram(\n",
    "    Z,\n",
    "    leaf_rotation=90.,  # rotates the x axis labels\n",
    "    leaf_font_size=8.,  # font size for the x axis labels\n",
    ")\n",
    "plt.show()"
   ]
  },
  {
   "cell_type": "code",
   "execution_count": 27,
   "metadata": {
    "colab": {
     "base_uri": "https://localhost:8080/",
     "height": 455
    },
    "datalore": {
     "hide_input_from_viewers": true,
     "hide_output_from_viewers": true,
     "node_id": "D6P7URew1PKY6s4a04vqr4",
     "type": "CODE"
    },
    "executionInfo": {
     "elapsed": 6,
     "status": "ok",
     "timestamp": 1727891721014,
     "user": {
      "displayName": "Алексей Кисляков",
      "userId": "17156844599462864761"
     },
     "user_tz": -180
    },
    "id": "xQ9jETLcEUsq",
    "outputId": "1a86a624-56a0-4aaf-c58e-517390187233"
   },
   "outputs": [
    {
     "data": {
      "text/html": [
       "<div>\n",
       "<style scoped>\n",
       "    .dataframe tbody tr th:only-of-type {\n",
       "        vertical-align: middle;\n",
       "    }\n",
       "\n",
       "    .dataframe tbody tr th {\n",
       "        vertical-align: top;\n",
       "    }\n",
       "\n",
       "    .dataframe thead th {\n",
       "        text-align: right;\n",
       "    }\n",
       "</style>\n",
       "<table border=\"1\" class=\"dataframe\">\n",
       "  <thead>\n",
       "    <tr style=\"text-align: right;\">\n",
       "      <th>Наименование</th>\n",
       "      <th>Алжир</th>\n",
       "      <th>Беларусь</th>\n",
       "      <th>Казахстан</th>\n",
       "    </tr>\n",
       "    <tr>\n",
       "      <th>month</th>\n",
       "      <th></th>\n",
       "      <th></th>\n",
       "      <th></th>\n",
       "    </tr>\n",
       "  </thead>\n",
       "  <tbody>\n",
       "    <tr>\n",
       "      <th>2016-01-01</th>\n",
       "      <td>0.0</td>\n",
       "      <td>3.004347e+06</td>\n",
       "      <td>4.014515e+06</td>\n",
       "    </tr>\n",
       "    <tr>\n",
       "      <th>2016-02-01</th>\n",
       "      <td>22787888.0</td>\n",
       "      <td>5.480527e+06</td>\n",
       "      <td>6.449184e+06</td>\n",
       "    </tr>\n",
       "    <tr>\n",
       "      <th>2016-03-01</th>\n",
       "      <td>0.0</td>\n",
       "      <td>6.693229e+06</td>\n",
       "      <td>8.502189e+06</td>\n",
       "    </tr>\n",
       "    <tr>\n",
       "      <th>2016-04-01</th>\n",
       "      <td>21098632.0</td>\n",
       "      <td>5.495055e+06</td>\n",
       "      <td>7.463560e+06</td>\n",
       "    </tr>\n",
       "    <tr>\n",
       "      <th>2016-05-01</th>\n",
       "      <td>1782349.0</td>\n",
       "      <td>5.604224e+06</td>\n",
       "      <td>7.979477e+06</td>\n",
       "    </tr>\n",
       "    <tr>\n",
       "      <th>...</th>\n",
       "      <td>...</td>\n",
       "      <td>...</td>\n",
       "      <td>...</td>\n",
       "    </tr>\n",
       "    <tr>\n",
       "      <th>2021-08-01</th>\n",
       "      <td>0.0</td>\n",
       "      <td>1.826629e+07</td>\n",
       "      <td>2.432635e+07</td>\n",
       "    </tr>\n",
       "    <tr>\n",
       "      <th>2021-09-01</th>\n",
       "      <td>24600655.0</td>\n",
       "      <td>1.286661e+07</td>\n",
       "      <td>2.001674e+07</td>\n",
       "    </tr>\n",
       "    <tr>\n",
       "      <th>2021-10-01</th>\n",
       "      <td>0.0</td>\n",
       "      <td>1.072810e+07</td>\n",
       "      <td>1.731864e+07</td>\n",
       "    </tr>\n",
       "    <tr>\n",
       "      <th>2021-11-01</th>\n",
       "      <td>0.0</td>\n",
       "      <td>9.265825e+06</td>\n",
       "      <td>1.426918e+07</td>\n",
       "    </tr>\n",
       "    <tr>\n",
       "      <th>2021-12-01</th>\n",
       "      <td>19166820.0</td>\n",
       "      <td>1.148199e+07</td>\n",
       "      <td>1.405104e+07</td>\n",
       "    </tr>\n",
       "  </tbody>\n",
       "</table>\n",
       "<p>72 rows × 3 columns</p>\n",
       "</div>"
      ],
      "text/plain": [
       "Наименование       Алжир      Беларусь     Казахстан\n",
       "month                                               \n",
       "2016-01-01           0.0  3.004347e+06  4.014515e+06\n",
       "2016-02-01    22787888.0  5.480527e+06  6.449184e+06\n",
       "2016-03-01           0.0  6.693229e+06  8.502189e+06\n",
       "2016-04-01    21098632.0  5.495055e+06  7.463560e+06\n",
       "2016-05-01     1782349.0  5.604224e+06  7.979477e+06\n",
       "...                  ...           ...           ...\n",
       "2021-08-01           0.0  1.826629e+07  2.432635e+07\n",
       "2021-09-01    24600655.0  1.286661e+07  2.001674e+07\n",
       "2021-10-01           0.0  1.072810e+07  1.731864e+07\n",
       "2021-11-01           0.0  9.265825e+06  1.426918e+07\n",
       "2021-12-01    19166820.0  1.148199e+07  1.405104e+07\n",
       "\n",
       "[72 rows x 3 columns]"
      ]
     },
     "execution_count": 27,
     "metadata": {},
     "output_type": "execute_result"
    }
   ],
   "source": [
    "tab.iloc[:,[4,9,28]]"
   ]
  },
  {
   "cell_type": "code",
   "execution_count": 28,
   "metadata": {
    "colab": {
     "base_uri": "https://localhost:8080/",
     "height": 957
    },
    "datalore": {
     "hide_input_from_viewers": true,
     "hide_output_from_viewers": true,
     "node_id": "qvVhTgfEEsBSiFVpipqFWv",
     "type": "CODE"
    },
    "executionInfo": {
     "elapsed": 19428,
     "status": "ok",
     "timestamp": 1727891740437,
     "user": {
      "displayName": "Алексей Кисляков",
      "userId": "17156844599462864761"
     },
     "user_tz": -180
    },
    "id": "lJx03wclEUsq",
    "outputId": "d9be4275-7de3-4458-ed90-5329e57b88fb"
   },
   "outputs": [
    {
     "data": {
      "image/png": "[encoded data removed]",
      "text/plain": [
       "<Figure size 1000x500 with 1 Axes>"
      ]
     },
     "metadata": {},
     "output_type": "display_data"
    },
    {
     "data": {
      "image/png": "[encoded data removed]",
      "text/plain": [
       "<Figure size 1000x500 with 1 Axes>"
      ]
     },
     "metadata": {},
     "output_type": "display_data"
    }
   ],
   "source": [
    "from sklearn.metrics import silhouette_score\n",
    "distortions = []\n",
    "silhouette = []\n",
    "K=range(1, 10)\n",
    "for k in K:\n",
    "    kmeanModel = TimeSeriesKMeans(n_clusters=k, metric=\"dtw\",\n",
    "                                  n_jobs=6, max_iter=10, random_state=42)\n",
    "    kmeanModel.fit(tab.T)\n",
    "    distortions.append(kmeanModel.inertia_)\n",
    "    if k > 1:\n",
    "        silhouette.append(silhouette_score(tab.T, kmeanModel.labels_))\n",
    "\n",
    "plt.figure(figsize=(10,5))\n",
    "plt.plot(K, distortions, 'gx-')\n",
    "plt.xlabel('k')\n",
    "plt.ylabel('Distortion')\n",
    "plt.title('Метод локтевого изгиба')\n",
    "plt.show()\n",
    "\n",
    "plt.figure(figsize=(10,5))\n",
    "plt.plot(K[1:], silhouette, 'gx-')\n",
    "plt.xlabel('k')\n",
    "plt.ylabel('Silhouette score')\n",
    "plt.title('Ширина силуэта')\n",
    "plt.show()"
   ]
  },
  {
   "cell_type": "markdown",
   "metadata": {
    "id": "xsLkLba1E0nG"
   },
   "source": [
    "https://tslearn.readthedocs.io/en/stable/auto_examples/metrics/plot_softdtw_path.html#sphx-glr-auto-examples-metrics-plot-softdtw-path-py"
   ]
  },
  {
   "cell_type": "markdown",
   "metadata": {
    "id": "2l_OUNLeFhOb"
   },
   "source": [
    "Метод soft-DTW обеспечивает более плавный эффект и может уменьшить влияние выбросов в данных"
   ]
  },
  {
   "cell_type": "markdown",
   "metadata": {
    "id": "_mgRlVyPCaDl"
   },
   "source": [
    "![image.png](data:image/png;base64,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)"
   ]
  },
  {
   "cell_type": "code",
   "execution_count": 29,
   "metadata": {
    "colab": {
     "base_uri": "https://localhost:8080/",
     "height": 80
    },
    "executionInfo": {
     "elapsed": 22081,
     "status": "ok",
     "timestamp": 1727891762513,
     "user": {
      "displayName": "Алексей Кисляков",
      "userId": "17156844599462864761"
     },
     "user_tz": -180
    },
    "id": "XOi9S0lg_MkA",
    "outputId": "8f058a40-703d-45be-af53-00bbe72be765"
   },
   "outputs": [
    {
     "data": {
      "text/html": [
       "<style>#sk-container-id-2 {\n",
       "  /* Definition of color scheme common for light and dark mode */\n",
       "  --sklearn-color-text: black;\n",
       "  --sklearn-color-line: gray;\n",
       "  /* Definition of color scheme for unfitted estimators */\n",
       "  --sklearn-color-unfitted-level-0: #fff5e6;\n",
       "  --sklearn-color-unfitted-level-1: #f6e4d2;\n",
       "  --sklearn-color-unfitted-level-2: #ffe0b3;\n",
       "  --sklearn-color-unfitted-level-3: chocolate;\n",
       "  /* Definition of color scheme for fitted estimators */\n",
       "  --sklearn-color-fitted-level-0: #f0f8ff;\n",
       "  --sklearn-color-fitted-level-1: #d4ebff;\n",
       "  --sklearn-color-fitted-level-2: #b3dbfd;\n",
       "  --sklearn-color-fitted-level-3: cornflowerblue;\n",
       "\n",
       "  /* Specific color for light theme */\n",
       "  --sklearn-color-text-on-default-background: var(--sg-text-color, var(--theme-code-foreground, var(--jp-content-font-color1, black)));\n",
       "  --sklearn-color-background: var(--sg-background-color, var(--theme-background, var(--jp-layout-color0, white)));\n",
       "  --sklearn-color-border-box: var(--sg-text-color, var(--theme-code-foreground, var(--jp-content-font-color1, black)));\n",
       "  --sklearn-color-icon: #696969;\n",
       "\n",
       "  @media (prefers-color-scheme: dark) {\n",
       "    /* Redefinition of color scheme for dark theme */\n",
       "    --sklearn-color-text-on-default-background: var(--sg-text-color, var(--theme-code-foreground, var(--jp-content-font-color1, white)));\n",
       "    --sklearn-color-background: var(--sg-background-color, var(--theme-background, var(--jp-layout-color0, #111)));\n",
       "    --sklearn-color-border-box: var(--sg-text-color, var(--theme-code-foreground, var(--jp-content-font-color1, white)));\n",
       "    --sklearn-color-icon: #878787;\n",
       "  }\n",
       "}\n",
       "\n",
       "#sk-container-id-2 {\n",
       "  color: var(--sklearn-color-text);\n",
       "}\n",
       "\n",
       "#sk-container-id-2 pre {\n",
       "  padding: 0;\n",
       "}\n",
       "\n",
       "#sk-container-id-2 input.sk-hidden--visually {\n",
       "  border: 0;\n",
       "  clip: rect(1px 1px 1px 1px);\n",
       "  clip: rect(1px, 1px, 1px, 1px);\n",
       "  height: 1px;\n",
       "  margin: -1px;\n",
       "  overflow: hidden;\n",
       "  padding: 0;\n",
       "  position: absolute;\n",
       "  width: 1px;\n",
       "}\n",
       "\n",
       "#sk-container-id-2 div.sk-dashed-wrapped {\n",
       "  border: 1px dashed var(--sklearn-color-line);\n",
       "  margin: 0 0.4em 0.5em 0.4em;\n",
       "  box-sizing: border-box;\n",
       "  padding-bottom: 0.4em;\n",
       "  background-color: var(--sklearn-color-background);\n",
       "}\n",
       "\n",
       "#sk-container-id-2 div.sk-container {\n",
       "  /* jupyter's `normalize.less` sets `[hidden] { display: none; }`\n",
       "     but bootstrap.min.css set `[hidden] { display: none !important; }`\n",
       "     so we also need the `!important` here to be able to override the\n",
       "     default hidden behavior on the sphinx rendered scikit-learn.org.\n",
       "     See: https://github.com/scikit-learn/scikit-learn/issues/21755 */\n",
       "  display: inline-block !important;\n",
       "  position: relative;\n",
       "}\n",
       "\n",
       "#sk-container-id-2 div.sk-text-repr-fallback {\n",
       "  display: none;\n",
       "}\n",
       "\n",
       "div.sk-parallel-item,\n",
       "div.sk-serial,\n",
       "div.sk-item {\n",
       "  /* draw centered vertical line to link estimators */\n",
       "  background-image: linear-gradient(var(--sklearn-color-text-on-default-background), var(--sklearn-color-text-on-default-background));\n",
       "  background-size: 2px 100%;\n",
       "  background-repeat: no-repeat;\n",
       "  background-position: center center;\n",
       "}\n",
       "\n",
       "/* Parallel-specific style estimator block */\n",
       "\n",
       "#sk-container-id-2 div.sk-parallel-item::after {\n",
       "  content: \"\";\n",
       "  width: 100%;\n",
       "  border-bottom: 2px solid var(--sklearn-color-text-on-default-background);\n",
       "  flex-grow: 1;\n",
       "}\n",
       "\n",
       "#sk-container-id-2 div.sk-parallel {\n",
       "  display: flex;\n",
       "  align-items: stretch;\n",
       "  justify-content: center;\n",
       "  background-color: var(--sklearn-color-background);\n",
       "  position: relative;\n",
       "}\n",
       "\n",
       "#sk-container-id-2 div.sk-parallel-item {\n",
       "  display: flex;\n",
       "  flex-direction: column;\n",
       "}\n",
       "\n",
       "#sk-container-id-2 div.sk-parallel-item:first-child::after {\n",
       "  align-self: flex-end;\n",
       "  width: 50%;\n",
       "}\n",
       "\n",
       "#sk-container-id-2 div.sk-parallel-item:last-child::after {\n",
       "  align-self: flex-start;\n",
       "  width: 50%;\n",
       "}\n",
       "\n",
       "#sk-container-id-2 div.sk-parallel-item:only-child::after {\n",
       "  width: 0;\n",
       "}\n",
       "\n",
       "/* Serial-specific style estimator block */\n",
       "\n",
       "#sk-container-id-2 div.sk-serial {\n",
       "  display: flex;\n",
       "  flex-direction: column;\n",
       "  align-items: center;\n",
       "  background-color: var(--sklearn-color-background);\n",
       "  padding-right: 1em;\n",
       "  padding-left: 1em;\n",
       "}\n",
       "\n",
       "\n",
       "/* Toggleable style: style used for estimator/Pipeline/ColumnTransformer box that is\n",
       "clickable and can be expanded/collapsed.\n",
       "- Pipeline and ColumnTransformer use this feature and define the default style\n",
       "- Estimators will overwrite some part of the style using the `sk-estimator` class\n",
       "*/\n",
       "\n",
       "/* Pipeline and ColumnTransformer style (default) */\n",
       "\n",
       "#sk-container-id-2 div.sk-toggleable {\n",
       "  /* Default theme specific background. It is overwritten whether we have a\n",
       "  specific estimator or a Pipeline/ColumnTransformer */\n",
       "  background-color: var(--sklearn-color-background);\n",
       "}\n",
       "\n",
       "/* Toggleable label */\n",
       "#sk-container-id-2 label.sk-toggleable__label {\n",
       "  cursor: pointer;\n",
       "  display: block;\n",
       "  width: 100%;\n",
       "  margin-bottom: 0;\n",
       "  padding: 0.5em;\n",
       "  box-sizing: border-box;\n",
       "  text-align: center;\n",
       "}\n",
       "\n",
       "#sk-container-id-2 label.sk-toggleable__label-arrow:before {\n",
       "  /* Arrow on the left of the label */\n",
       "  content: \"▸\";\n",
       "  float: left;\n",
       "  margin-right: 0.25em;\n",
       "  color: var(--sklearn-color-icon);\n",
       "}\n",
       "\n",
       "#sk-container-id-2 label.sk-toggleable__label-arrow:hover:before {\n",
       "  color: var(--sklearn-color-text);\n",
       "}\n",
       "\n",
       "/* Toggleable content - dropdown */\n",
       "\n",
       "#sk-container-id-2 div.sk-toggleable__content {\n",
       "  max-height: 0;\n",
       "  max-width: 0;\n",
       "  overflow: hidden;\n",
       "  text-align: left;\n",
       "  /* unfitted */\n",
       "  background-color: var(--sklearn-color-unfitted-level-0);\n",
       "}\n",
       "\n",
       "#sk-container-id-2 div.sk-toggleable__content.fitted {\n",
       "  /* fitted */\n",
       "  background-color: var(--sklearn-color-fitted-level-0);\n",
       "}\n",
       "\n",
       "#sk-container-id-2 div.sk-toggleable__content pre {\n",
       "  margin: 0.2em;\n",
       "  border-radius: 0.25em;\n",
       "  color: var(--sklearn-color-text);\n",
       "  /* unfitted */\n",
       "  background-color: var(--sklearn-color-unfitted-level-0);\n",
       "}\n",
       "\n",
       "#sk-container-id-2 div.sk-toggleable__content.fitted pre {\n",
       "  /* unfitted */\n",
       "  background-color: var(--sklearn-color-fitted-level-0);\n",
       "}\n",
       "\n",
       "#sk-container-id-2 input.sk-toggleable__control:checked~div.sk-toggleable__content {\n",
       "  /* Expand drop-down */\n",
       "  max-height: 200px;\n",
       "  max-width: 100%;\n",
       "  overflow: auto;\n",
       "}\n",
       "\n",
       "#sk-container-id-2 input.sk-toggleable__control:checked~label.sk-toggleable__label-arrow:before {\n",
       "  content: \"▾\";\n",
       "}\n",
       "\n",
       "/* Pipeline/ColumnTransformer-specific style */\n",
       "\n",
       "#sk-container-id-2 div.sk-label input.sk-toggleable__control:checked~label.sk-toggleable__label {\n",
       "  color: var(--sklearn-color-text);\n",
       "  background-color: var(--sklearn-color-unfitted-level-2);\n",
       "}\n",
       "\n",
       "#sk-container-id-2 div.sk-label.fitted input.sk-toggleable__control:checked~label.sk-toggleable__label {\n",
       "  background-color: var(--sklearn-color-fitted-level-2);\n",
       "}\n",
       "\n",
       "/* Estimator-specific style */\n",
       "\n",
       "/* Colorize estimator box */\n",
       "#sk-container-id-2 div.sk-estimator input.sk-toggleable__control:checked~label.sk-toggleable__label {\n",
       "  /* unfitted */\n",
       "  background-color: var(--sklearn-color-unfitted-level-2);\n",
       "}\n",
       "\n",
       "#sk-container-id-2 div.sk-estimator.fitted input.sk-toggleable__control:checked~label.sk-toggleable__label {\n",
       "  /* fitted */\n",
       "  background-color: var(--sklearn-color-fitted-level-2);\n",
       "}\n",
       "\n",
       "#sk-container-id-2 div.sk-label label.sk-toggleable__label,\n",
       "#sk-container-id-2 div.sk-label label {\n",
       "  /* The background is the default theme color */\n",
       "  color: var(--sklearn-color-text-on-default-background);\n",
       "}\n",
       "\n",
       "/* On hover, darken the color of the background */\n",
       "#sk-container-id-2 div.sk-label:hover label.sk-toggleable__label {\n",
       "  color: var(--sklearn-color-text);\n",
       "  background-color: var(--sklearn-color-unfitted-level-2);\n",
       "}\n",
       "\n",
       "/* Label box, darken color on hover, fitted */\n",
       "#sk-container-id-2 div.sk-label.fitted:hover label.sk-toggleable__label.fitted {\n",
       "  color: var(--sklearn-color-text);\n",
       "  background-color: var(--sklearn-color-fitted-level-2);\n",
       "}\n",
       "\n",
       "/* Estimator label */\n",
       "\n",
       "#sk-container-id-2 div.sk-label label {\n",
       "  font-family: monospace;\n",
       "  font-weight: bold;\n",
       "  display: inline-block;\n",
       "  line-height: 1.2em;\n",
       "}\n",
       "\n",
       "#sk-container-id-2 div.sk-label-container {\n",
       "  text-align: center;\n",
       "}\n",
       "\n",
       "/* Estimator-specific */\n",
       "#sk-container-id-2 div.sk-estimator {\n",
       "  font-family: monospace;\n",
       "  border: 1px dotted var(--sklearn-color-border-box);\n",
       "  border-radius: 0.25em;\n",
       "  box-sizing: border-box;\n",
       "  margin-bottom: 0.5em;\n",
       "  /* unfitted */\n",
       "  background-color: var(--sklearn-color-unfitted-level-0);\n",
       "}\n",
       "\n",
       "#sk-container-id-2 div.sk-estimator.fitted {\n",
       "  /* fitted */\n",
       "  background-color: var(--sklearn-color-fitted-level-0);\n",
       "}\n",
       "\n",
       "/* on hover */\n",
       "#sk-container-id-2 div.sk-estimator:hover {\n",
       "  /* unfitted */\n",
       "  background-color: var(--sklearn-color-unfitted-level-2);\n",
       "}\n",
       "\n",
       "#sk-container-id-2 div.sk-estimator.fitted:hover {\n",
       "  /* fitted */\n",
       "  background-color: var(--sklearn-color-fitted-level-2);\n",
       "}\n",
       "\n",
       "/* Specification for estimator info (e.g. \"i\" and \"?\") */\n",
       "\n",
       "/* Common style for \"i\" and \"?\" */\n",
       "\n",
       ".sk-estimator-doc-link,\n",
       "a:link.sk-estimator-doc-link,\n",
       "a:visited.sk-estimator-doc-link {\n",
       "  float: right;\n",
       "  font-size: smaller;\n",
       "  line-height: 1em;\n",
       "  font-family: monospace;\n",
       "  background-color: var(--sklearn-color-background);\n",
       "  border-radius: 1em;\n",
       "  height: 1em;\n",
       "  width: 1em;\n",
       "  text-decoration: none !important;\n",
       "  margin-left: 1ex;\n",
       "  /* unfitted */\n",
       "  border: var(--sklearn-color-unfitted-level-1) 1pt solid;\n",
       "  color: var(--sklearn-color-unfitted-level-1);\n",
       "}\n",
       "\n",
       ".sk-estimator-doc-link.fitted,\n",
       "a:link.sk-estimator-doc-link.fitted,\n",
       "a:visited.sk-estimator-doc-link.fitted {\n",
       "  /* fitted */\n",
       "  border: var(--sklearn-color-fitted-level-1) 1pt solid;\n",
       "  color: var(--sklearn-color-fitted-level-1);\n",
       "}\n",
       "\n",
       "/* On hover */\n",
       "div.sk-estimator:hover .sk-estimator-doc-link:hover,\n",
       ".sk-estimator-doc-link:hover,\n",
       "div.sk-label-container:hover .sk-estimator-doc-link:hover,\n",
       ".sk-estimator-doc-link:hover {\n",
       "  /* unfitted */\n",
       "  background-color: var(--sklearn-color-unfitted-level-3);\n",
       "  color: var(--sklearn-color-background);\n",
       "  text-decoration: none;\n",
       "}\n",
       "\n",
       "div.sk-estimator.fitted:hover .sk-estimator-doc-link.fitted:hover,\n",
       ".sk-estimator-doc-link.fitted:hover,\n",
       "div.sk-label-container:hover .sk-estimator-doc-link.fitted:hover,\n",
       ".sk-estimator-doc-link.fitted:hover {\n",
       "  /* fitted */\n",
       "  background-color: var(--sklearn-color-fitted-level-3);\n",
       "  color: var(--sklearn-color-background);\n",
       "  text-decoration: none;\n",
       "}\n",
       "\n",
       "/* Span, style for the box shown on hovering the info icon */\n",
       ".sk-estimator-doc-link span {\n",
       "  display: none;\n",
       "  z-index: 9999;\n",
       "  position: relative;\n",
       "  font-weight: normal;\n",
       "  right: .2ex;\n",
       "  padding: .5ex;\n",
       "  margin: .5ex;\n",
       "  width: min-content;\n",
       "  min-width: 20ex;\n",
       "  max-width: 50ex;\n",
       "  color: var(--sklearn-color-text);\n",
       "  box-shadow: 2pt 2pt 4pt #999;\n",
       "  /* unfitted */\n",
       "  background: var(--sklearn-color-unfitted-level-0);\n",
       "  border: .5pt solid var(--sklearn-color-unfitted-level-3);\n",
       "}\n",
       "\n",
       ".sk-estimator-doc-link.fitted span {\n",
       "  /* fitted */\n",
       "  background: var(--sklearn-color-fitted-level-0);\n",
       "  border: var(--sklearn-color-fitted-level-3);\n",
       "}\n",
       "\n",
       ".sk-estimator-doc-link:hover span {\n",
       "  display: block;\n",
       "}\n",
       "\n",
       "/* \"?\"-specific style due to the `<a>` HTML tag */\n",
       "\n",
       "#sk-container-id-2 a.estimator_doc_link {\n",
       "  float: right;\n",
       "  font-size: 1rem;\n",
       "  line-height: 1em;\n",
       "  font-family: monospace;\n",
       "  background-color: var(--sklearn-color-background);\n",
       "  border-radius: 1rem;\n",
       "  height: 1rem;\n",
       "  width: 1rem;\n",
       "  text-decoration: none;\n",
       "  /* unfitted */\n",
       "  color: var(--sklearn-color-unfitted-level-1);\n",
       "  border: var(--sklearn-color-unfitted-level-1) 1pt solid;\n",
       "}\n",
       "\n",
       "#sk-container-id-2 a.estimator_doc_link.fitted {\n",
       "  /* fitted */\n",
       "  border: var(--sklearn-color-fitted-level-1) 1pt solid;\n",
       "  color: var(--sklearn-color-fitted-level-1);\n",
       "}\n",
       "\n",
       "/* On hover */\n",
       "#sk-container-id-2 a.estimator_doc_link:hover {\n",
       "  /* unfitted */\n",
       "  background-color: var(--sklearn-color-unfitted-level-3);\n",
       "  color: var(--sklearn-color-background);\n",
       "  text-decoration: none;\n",
       "}\n",
       "\n",
       "#sk-container-id-2 a.estimator_doc_link.fitted:hover {\n",
       "  /* fitted */\n",
       "  background-color: var(--sklearn-color-fitted-level-3);\n",
       "}\n",
       "</style><div id=\"sk-container-id-2\" class=\"sk-top-container\"><div class=\"sk-text-repr-fallback\"><pre>TimeSeriesKMeans(max_iter=10, metric=&#x27;softdtw&#x27;, random_state=42)</pre><b>In a Jupyter environment, please rerun this cell to show the HTML representation or trust the notebook. <br />On GitHub, the HTML representation is unable to render, please try loading this page with nbviewer.org.</b></div><div class=\"sk-container\" hidden><div class=\"sk-item\"><div class=\"sk-estimator fitted sk-toggleable\"><input class=\"sk-toggleable__control sk-hidden--visually\" id=\"sk-estimator-id-2\" type=\"checkbox\" checked><label for=\"sk-estimator-id-2\" class=\"sk-toggleable__label fitted sk-toggleable__label-arrow fitted\">&nbsp;TimeSeriesKMeans<span class=\"sk-estimator-doc-link fitted\">i<span>Fitted</span></span></label><div class=\"sk-toggleable__content fitted\"><pre>TimeSeriesKMeans(max_iter=10, metric=&#x27;softdtw&#x27;, random_state=42)</pre></div> </div></div></div></div>"
      ],
      "text/plain": [
       "TimeSeriesKMeans(max_iter=10, metric='softdtw', random_state=42)"
      ]
     },
     "execution_count": 29,
     "metadata": {},
     "output_type": "execute_result"
    }
   ],
   "source": [
    "from tslearn.clustering import TimeSeriesKMeans\n",
    "model = TimeSeriesKMeans(n_clusters=3, metric=\"softdtw\",\n",
    "                         max_iter=10, random_state=42)\n",
    "model.fit(tab.T)"
   ]
  },
  {
   "cell_type": "code",
   "execution_count": 30,
   "metadata": {
    "colab": {
     "base_uri": "https://localhost:8080/",
     "height": 209
    },
    "executionInfo": {
     "elapsed": 16,
     "status": "ok",
     "timestamp": 1727891762513,
     "user": {
      "displayName": "Алексей Кисляков",
      "userId": "17156844599462864761"
     },
     "user_tz": -180
    },
    "id": "uB1Zt8qK_Mhn",
    "outputId": "a7c18964-7c06-4340-96e1-debb8a53f043"
   },
   "outputs": [
    {
     "data": {
      "text/plain": [
       "0\n",
       "0    71\n",
       "2     3\n",
       "1     2\n",
       "Name: count, dtype: int64"
      ]
     },
     "execution_count": 30,
     "metadata": {},
     "output_type": "execute_result"
    }
   ],
   "source": [
    "pd.DataFrame(model.labels_).value_counts()"
   ]
  },
  {
   "cell_type": "markdown",
   "metadata": {
    "id": "-jAbMBd-FA9n"
   },
   "source": [
    "Дополнительно:\n",
    "\n",
    "Каноническое искажение времени:\n",
    "находит оптимальное подпространство уменьшенной размерности таким образом, чтобы последовательности были максимально линейно коррелированы\n",
    "\n",
    "https://tslearn.readthedocs.io/en/stable/auto_examples/metrics/plot_ctw.html#sphx-glr-auto-examples-metrics-plot-ctw-py"
   ]
  },
  {
   "cell_type": "code",
   "execution_count": null,
   "metadata": {},
   "outputs": [],
   "source": []
  }
 ],
 "metadata": {
  "colab": {
   "provenance": []
  },
  "datalore": {
   "base_environment": "default",
   "computation_mode": "JUPYTER",
   "package_manager": "pip",
   "packages": [],
   "report_row_ids": [],
   "version": 2
  },
  "kernelspec": {
   "display_name": "Python 3 (ipykernel)",
   "language": "python",
   "name": "python3"
  },
  "language_info": {
   "codemirror_mode": {
    "name": "ipython",
    "version": 3
   },
   "file_extension": ".py",
   "mimetype": "text/x-python",
   "name": "python",
   "nbconvert_exporter": "python",
   "pygments_lexer": "ipython3",
   "version": "3.12.4"
  }
 },
 "nbformat": 4,
 "nbformat_minor": 4
}
