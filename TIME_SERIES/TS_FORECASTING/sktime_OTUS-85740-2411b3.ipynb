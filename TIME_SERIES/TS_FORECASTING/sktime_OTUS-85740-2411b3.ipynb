{
  "nbformat": 4,
  "nbformat_minor": 0,
  "metadata": {
    "colab": {
      "provenance": []
    },
    "kernelspec": {
      "name": "python3",
      "display_name": "Python 3"
    },
    "language_info": {
      "name": "python"
    }
  },
  "cells": [
    {
      "cell_type": "markdown",
      "source": [
        "https://www.sktime.net/en/stable/api_reference/forecasting.html"
      ],
      "metadata": {
        "id": "AU8P3nj5ia8M"
      }
    },
    {
      "cell_type": "code",
      "source": [
        "pip install sktime[all_extras]"
      ],
      "metadata": {
        "colab": {
          "base_uri": "https://localhost:8080/"
        },
        "id": "HRoBIUaxFSdG",
        "outputId": "3e61be5e-7fd1-48e5-9267-5d5cd63b298a"
      },
      "execution_count": 14,
      "outputs": [
        {
          "output_type": "stream",
          "name": "stdout",
          "text": [
            "Requirement already satisfied: sktime[all_extras] in /usr/local/lib/python3.10/dist-packages (0.33.1)\n",
            "Requirement already satisfied: joblib<1.5,>=1.2.0 in /usr/local/lib/python3.10/dist-packages (from sktime[all_extras]) (1.4.2)\n",
            "Requirement already satisfied: numpy<2.1,>=1.21 in /usr/local/lib/python3.10/dist-packages (from sktime[all_extras]) (1.26.4)\n",
            "Requirement already satisfied: packaging in /usr/local/lib/python3.10/dist-packages (from sktime[all_extras]) (24.1)\n",
            "Requirement already satisfied: pandas<2.3.0,>=1.1 in /usr/local/lib/python3.10/dist-packages (from sktime[all_extras]) (2.2.2)\n",
            "Requirement already satisfied: scikit-base<0.9.0,>=0.6.1 in /usr/local/lib/python3.10/dist-packages (from sktime[all_extras]) (0.8.3)\n",
            "Requirement already satisfied: scikit-learn<1.6.0,>=0.24 in /usr/local/lib/python3.10/dist-packages (from sktime[all_extras]) (1.5.2)\n",
            "Requirement already satisfied: scipy<2.0.0,>=1.2 in /usr/local/lib/python3.10/dist-packages (from sktime[all_extras]) (1.14.1)\n",
            "Requirement already satisfied: arch<7.1.0,>=5.6 in /usr/local/lib/python3.10/dist-packages (from sktime[all_extras]) (7.0.0)\n",
            "Requirement already satisfied: autots<0.7,>=0.6.1 in /usr/local/lib/python3.10/dist-packages (from sktime[all_extras]) (0.6.15)\n",
            "Requirement already satisfied: cloudpickle in /usr/local/lib/python3.10/dist-packages (from sktime[all_extras]) (2.2.1)\n",
            "Requirement already satisfied: dash!=2.9.0 in /usr/local/lib/python3.10/dist-packages (from sktime[all_extras]) (2.18.1)\n",
            "Requirement already satisfied: dtaidistance<2.4 in /usr/local/lib/python3.10/dist-packages (from sktime[all_extras]) (2.3.12)\n",
            "Requirement already satisfied: dtw-python in /usr/local/lib/python3.10/dist-packages (from sktime[all_extras]) (1.5.3)\n",
            "Requirement already satisfied: gluonts>=0.9 in /usr/local/lib/python3.10/dist-packages (from sktime[all_extras]) (0.15.1)\n",
            "Requirement already satisfied: holidays in /usr/local/lib/python3.10/dist-packages (from sktime[all_extras]) (0.58)\n",
            "Requirement already satisfied: matplotlib!=3.9.1,>=3.3.2 in /usr/local/lib/python3.10/dist-packages (from sktime[all_extras]) (3.7.1)\n",
            "Requirement already satisfied: mne in /usr/local/lib/python3.10/dist-packages (from sktime[all_extras]) (1.8.0)\n",
            "Requirement already satisfied: numba<0.61,>=0.53 in /usr/local/lib/python3.10/dist-packages (from sktime[all_extras]) (0.60.0)\n",
            "Requirement already satisfied: optuna<4.1 in /usr/local/lib/python3.10/dist-packages (from sktime[all_extras]) (4.0.0)\n",
            "Requirement already satisfied: polars<2.0,>=0.20 in /usr/local/lib/python3.10/dist-packages (from polars[pandas]<2.0,>=0.20; extra == \"all-extras\"->sktime[all_extras]) (1.7.1)\n",
            "Requirement already satisfied: pycatch22<0.4.6 in /usr/local/lib/python3.10/dist-packages (from sktime[all_extras]) (0.4.5)\n",
            "Requirement already satisfied: scikit-optimize in /usr/local/lib/python3.10/dist-packages (from sktime[all_extras]) (0.10.2)\n",
            "Requirement already satisfied: scikit-posthocs>=0.6.5 in /usr/local/lib/python3.10/dist-packages (from sktime[all_extras]) (0.9.1)\n",
            "Requirement already satisfied: seaborn>=0.11 in /usr/local/lib/python3.10/dist-packages (from sktime[all_extras]) (0.13.2)\n",
            "Requirement already satisfied: seasonal in /usr/local/lib/python3.10/dist-packages (from sktime[all_extras]) (0.3.1)\n",
            "Requirement already satisfied: skforecast<0.14,>=0.12.1 in /usr/local/lib/python3.10/dist-packages (from sktime[all_extras]) (0.13.0)\n",
            "Requirement already satisfied: skpro<2.6.0,>=2 in /usr/local/lib/python3.10/dist-packages (from sktime[all_extras]) (2.5.1)\n",
            "Requirement already satisfied: statsmodels>=0.12.1 in /usr/local/lib/python3.10/dist-packages (from sktime[all_extras]) (0.14.4)\n",
            "Requirement already satisfied: tbats>=1.1 in /usr/local/lib/python3.10/dist-packages (from sktime[all_extras]) (1.1.3)\n",
            "Requirement already satisfied: xarray in /usr/local/lib/python3.10/dist-packages (from sktime[all_extras]) (2024.9.0)\n",
            "Requirement already satisfied: u8darts<0.31,>=0.29.0 in /usr/local/lib/python3.10/dist-packages (from sktime[all_extras]) (0.30.0)\n",
            "Requirement already satisfied: filterpy>=1.4.5 in /usr/local/lib/python3.10/dist-packages (from sktime[all_extras]) (1.4.5)\n",
            "Requirement already satisfied: hmmlearn>=0.2.7 in /usr/local/lib/python3.10/dist-packages (from sktime[all_extras]) (0.3.2)\n",
            "Requirement already satisfied: keras-self-attention in /usr/local/lib/python3.10/dist-packages (from sktime[all_extras]) (0.51.0)\n",
            "Requirement already satisfied: pyod>=0.8 in /usr/local/lib/python3.10/dist-packages (from sktime[all_extras]) (2.0.2)\n",
            "Requirement already satisfied: stumpy>=1.5.1 in /usr/local/lib/python3.10/dist-packages (from sktime[all_extras]) (1.13.0)\n",
            "Requirement already satisfied: tslearn!=0.6.0,<0.7.0,>=0.5.2 in /usr/local/lib/python3.10/dist-packages (from sktime[all_extras]) (0.6.3)\n",
            "Requirement already satisfied: h5py in /usr/local/lib/python3.10/dist-packages (from sktime[all_extras]) (3.11.0)\n",
            "Requirement already satisfied: pmdarima!=1.8.1,<3.0.0,>=1.8 in /usr/local/lib/python3.10/dist-packages (from sktime[all_extras]) (2.0.4)\n",
            "Requirement already satisfied: prophet>=1.1 in /usr/local/lib/python3.10/dist-packages (from sktime[all_extras]) (1.1.6)\n",
            "Requirement already satisfied: pyts<0.14.0 in /usr/local/lib/python3.10/dist-packages (from sktime[all_extras]) (0.13.0)\n",
            "Requirement already satisfied: statsforecast<1.8.0,>=1.0.0 in /usr/local/lib/python3.10/dist-packages (from sktime[all_extras]) (1.7.8)\n",
            "Requirement already satisfied: tensorflow<2.17,>=2 in /usr/local/lib/python3.10/dist-packages (from sktime[all_extras]) (2.16.2)\n",
            "Requirement already satisfied: tsfresh>=0.17 in /usr/local/lib/python3.10/dist-packages (from sktime[all_extras]) (0.20.3)\n",
            "Requirement already satisfied: temporian!=0.8.0,<0.9.0,>=0.7.0 in /usr/local/lib/python3.10/dist-packages (from sktime[all_extras]) (0.8.1)\n",
            "Requirement already satisfied: Flask<3.1,>=1.0.4 in /usr/local/lib/python3.10/dist-packages (from dash!=2.9.0->sktime[all_extras]) (2.2.5)\n",
            "Requirement already satisfied: Werkzeug<3.1 in /usr/local/lib/python3.10/dist-packages (from dash!=2.9.0->sktime[all_extras]) (3.0.4)\n",
            "Requirement already satisfied: plotly>=5.0.0 in /usr/local/lib/python3.10/dist-packages (from dash!=2.9.0->sktime[all_extras]) (5.24.1)\n",
            "Requirement already satisfied: dash-html-components==2.0.0 in /usr/local/lib/python3.10/dist-packages (from dash!=2.9.0->sktime[all_extras]) (2.0.0)\n",
            "Requirement already satisfied: dash-core-components==2.0.0 in /usr/local/lib/python3.10/dist-packages (from dash!=2.9.0->sktime[all_extras]) (2.0.0)\n",
            "Requirement already satisfied: dash-table==5.0.0 in /usr/local/lib/python3.10/dist-packages (from dash!=2.9.0->sktime[all_extras]) (5.0.0)\n",
            "Requirement already satisfied: importlib-metadata in /usr/local/lib/python3.10/dist-packages (from dash!=2.9.0->sktime[all_extras]) (8.5.0)\n",
            "Requirement already satisfied: typing-extensions>=4.1.1 in /usr/local/lib/python3.10/dist-packages (from dash!=2.9.0->sktime[all_extras]) (4.12.2)\n",
            "Requirement already satisfied: requests in /usr/local/lib/python3.10/dist-packages (from dash!=2.9.0->sktime[all_extras]) (2.32.3)\n",
            "Requirement already satisfied: retrying in /usr/local/lib/python3.10/dist-packages (from dash!=2.9.0->sktime[all_extras]) (1.3.4)\n",
            "Requirement already satisfied: nest-asyncio in /usr/local/lib/python3.10/dist-packages (from dash!=2.9.0->sktime[all_extras]) (1.6.0)\n",
            "Requirement already satisfied: setuptools in /usr/local/lib/python3.10/dist-packages (from dash!=2.9.0->sktime[all_extras]) (71.0.4)\n",
            "Requirement already satisfied: pydantic<3,>=1.7 in /usr/local/lib/python3.10/dist-packages (from gluonts>=0.9->sktime[all_extras]) (2.9.2)\n",
            "Requirement already satisfied: tqdm~=4.23 in /usr/local/lib/python3.10/dist-packages (from gluonts>=0.9->sktime[all_extras]) (4.66.5)\n",
            "Requirement already satisfied: toolz~=0.10 in /usr/local/lib/python3.10/dist-packages (from gluonts>=0.9->sktime[all_extras]) (0.12.1)\n",
            "Requirement already satisfied: contourpy>=1.0.1 in /usr/local/lib/python3.10/dist-packages (from matplotlib!=3.9.1,>=3.3.2->sktime[all_extras]) (1.3.0)\n",
            "Requirement already satisfied: cycler>=0.10 in /usr/local/lib/python3.10/dist-packages (from matplotlib!=3.9.1,>=3.3.2->sktime[all_extras]) (0.12.1)\n",
            "Requirement already satisfied: fonttools>=4.22.0 in /usr/local/lib/python3.10/dist-packages (from matplotlib!=3.9.1,>=3.3.2->sktime[all_extras]) (4.54.1)\n",
            "Requirement already satisfied: kiwisolver>=1.0.1 in /usr/local/lib/python3.10/dist-packages (from matplotlib!=3.9.1,>=3.3.2->sktime[all_extras]) (1.4.7)\n",
            "Requirement already satisfied: pillow>=6.2.0 in /usr/local/lib/python3.10/dist-packages (from matplotlib!=3.9.1,>=3.3.2->sktime[all_extras]) (10.4.0)\n",
            "Requirement already satisfied: pyparsing>=2.3.1 in /usr/local/lib/python3.10/dist-packages (from matplotlib!=3.9.1,>=3.3.2->sktime[all_extras]) (3.1.4)\n",
            "Requirement already satisfied: python-dateutil>=2.7 in /usr/local/lib/python3.10/dist-packages (from matplotlib!=3.9.1,>=3.3.2->sktime[all_extras]) (2.8.2)\n",
            "Requirement already satisfied: llvmlite<0.44,>=0.43.0dev0 in /usr/local/lib/python3.10/dist-packages (from numba<0.61,>=0.53->sktime[all_extras]) (0.43.0)\n",
            "Requirement already satisfied: alembic>=1.5.0 in /usr/local/lib/python3.10/dist-packages (from optuna<4.1->sktime[all_extras]) (1.13.3)\n",
            "Requirement already satisfied: colorlog in /usr/local/lib/python3.10/dist-packages (from optuna<4.1->sktime[all_extras]) (6.8.2)\n",
            "Requirement already satisfied: sqlalchemy>=1.3.0 in /usr/local/lib/python3.10/dist-packages (from optuna<4.1->sktime[all_extras]) (2.0.35)\n",
            "Requirement already satisfied: PyYAML in /usr/local/lib/python3.10/dist-packages (from optuna<4.1->sktime[all_extras]) (6.0.2)\n",
            "Requirement already satisfied: pytz>=2020.1 in /usr/local/lib/python3.10/dist-packages (from pandas<2.3.0,>=1.1->sktime[all_extras]) (2024.2)\n",
            "Requirement already satisfied: tzdata>=2022.7 in /usr/local/lib/python3.10/dist-packages (from pandas<2.3.0,>=1.1->sktime[all_extras]) (2024.2)\n",
            "Requirement already satisfied: Cython!=0.29.18,!=0.29.31,>=0.29 in /usr/local/lib/python3.10/dist-packages (from pmdarima!=1.8.1,<3.0.0,>=1.8->sktime[all_extras]) (3.0.11)\n",
            "Requirement already satisfied: urllib3 in /usr/local/lib/python3.10/dist-packages (from pmdarima!=1.8.1,<3.0.0,>=1.8->sktime[all_extras]) (2.2.3)\n",
            "Requirement already satisfied: cmdstanpy>=1.0.4 in /usr/local/lib/python3.10/dist-packages (from prophet>=1.1->sktime[all_extras]) (1.2.4)\n",
            "Requirement already satisfied: importlib-resources in /usr/local/lib/python3.10/dist-packages (from prophet>=1.1->sktime[all_extras]) (6.4.5)\n",
            "Requirement already satisfied: threadpoolctl>=3.1.0 in /usr/local/lib/python3.10/dist-packages (from scikit-learn<1.6.0,>=0.24->sktime[all_extras]) (3.5.0)\n",
            "Requirement already satisfied: coreforecast>=0.0.12 in /usr/local/lib/python3.10/dist-packages (from statsforecast<1.8.0,>=1.0.0->sktime[all_extras]) (0.0.13)\n",
            "Requirement already satisfied: fugue>=0.8.1 in /usr/local/lib/python3.10/dist-packages (from statsforecast<1.8.0,>=1.0.0->sktime[all_extras]) (0.9.1)\n",
            "Requirement already satisfied: utilsforecast>=0.1.4 in /usr/local/lib/python3.10/dist-packages (from statsforecast<1.8.0,>=1.0.0->sktime[all_extras]) (0.2.5)\n",
            "Requirement already satisfied: patsy>=0.5.6 in /usr/local/lib/python3.10/dist-packages (from statsmodels>=0.12.1->sktime[all_extras]) (0.5.6)\n",
            "Requirement already satisfied: absl-py<2.0.0,>=1.3.0 in /usr/local/lib/python3.10/dist-packages (from temporian!=0.8.0,<0.9.0,>=0.7.0->sktime[all_extras]) (1.4.0)\n",
            "Requirement already satisfied: protobuf>=3.20.3 in /usr/local/lib/python3.10/dist-packages (from temporian!=0.8.0,<0.9.0,>=0.7.0->sktime[all_extras]) (3.20.3)\n",
            "Requirement already satisfied: astunparse>=1.6.0 in /usr/local/lib/python3.10/dist-packages (from tensorflow<2.17,>=2->sktime[all_extras]) (1.6.3)\n",
            "Requirement already satisfied: flatbuffers>=23.5.26 in /usr/local/lib/python3.10/dist-packages (from tensorflow<2.17,>=2->sktime[all_extras]) (24.3.25)\n",
            "Requirement already satisfied: gast!=0.5.0,!=0.5.1,!=0.5.2,>=0.2.1 in /usr/local/lib/python3.10/dist-packages (from tensorflow<2.17,>=2->sktime[all_extras]) (0.6.0)\n",
            "Requirement already satisfied: google-pasta>=0.1.1 in /usr/local/lib/python3.10/dist-packages (from tensorflow<2.17,>=2->sktime[all_extras]) (0.2.0)\n",
            "Requirement already satisfied: libclang>=13.0.0 in /usr/local/lib/python3.10/dist-packages (from tensorflow<2.17,>=2->sktime[all_extras]) (18.1.1)\n",
            "Requirement already satisfied: ml-dtypes~=0.3.1 in /usr/local/lib/python3.10/dist-packages (from tensorflow<2.17,>=2->sktime[all_extras]) (0.3.2)\n",
            "Requirement already satisfied: opt-einsum>=2.3.2 in /usr/local/lib/python3.10/dist-packages (from tensorflow<2.17,>=2->sktime[all_extras]) (3.4.0)\n",
            "Requirement already satisfied: six>=1.12.0 in /usr/local/lib/python3.10/dist-packages (from tensorflow<2.17,>=2->sktime[all_extras]) (1.16.0)\n",
            "Requirement already satisfied: termcolor>=1.1.0 in /usr/local/lib/python3.10/dist-packages (from tensorflow<2.17,>=2->sktime[all_extras]) (2.5.0)\n",
            "Requirement already satisfied: wrapt>=1.11.0 in /usr/local/lib/python3.10/dist-packages (from tensorflow<2.17,>=2->sktime[all_extras]) (1.16.0)\n",
            "Requirement already satisfied: grpcio<2.0,>=1.24.3 in /usr/local/lib/python3.10/dist-packages (from tensorflow<2.17,>=2->sktime[all_extras]) (1.64.1)\n",
            "Requirement already satisfied: tensorboard<2.17,>=2.16 in /usr/local/lib/python3.10/dist-packages (from tensorflow<2.17,>=2->sktime[all_extras]) (2.16.2)\n",
            "Requirement already satisfied: keras>=3.0.0 in /usr/local/lib/python3.10/dist-packages (from tensorflow<2.17,>=2->sktime[all_extras]) (3.4.1)\n",
            "Requirement already satisfied: tensorflow-io-gcs-filesystem>=0.23.1 in /usr/local/lib/python3.10/dist-packages (from tensorflow<2.17,>=2->sktime[all_extras]) (0.37.1)\n",
            "Requirement already satisfied: nfoursid>=1.0.0 in /usr/local/lib/python3.10/dist-packages (from u8darts<0.31,>=0.29.0->sktime[all_extras]) (1.0.1)\n",
            "Requirement already satisfied: shap>=0.40.0 in /usr/local/lib/python3.10/dist-packages (from u8darts<0.31,>=0.29.0->sktime[all_extras]) (0.46.0)\n",
            "Requirement already satisfied: xgboost>=1.6.0 in /usr/local/lib/python3.10/dist-packages (from u8darts<0.31,>=0.29.0->sktime[all_extras]) (2.1.1)\n",
            "Requirement already satisfied: decorator in /usr/local/lib/python3.10/dist-packages (from mne->sktime[all_extras]) (4.4.2)\n",
            "Requirement already satisfied: jinja2 in /usr/local/lib/python3.10/dist-packages (from mne->sktime[all_extras]) (3.1.4)\n",
            "Requirement already satisfied: lazy-loader>=0.3 in /usr/local/lib/python3.10/dist-packages (from mne->sktime[all_extras]) (0.4)\n",
            "Requirement already satisfied: pooch>=1.5 in /usr/local/lib/python3.10/dist-packages (from mne->sktime[all_extras]) (1.8.2)\n",
            "Requirement already satisfied: pyaml>=16.9 in /usr/local/lib/python3.10/dist-packages (from scikit-optimize->sktime[all_extras]) (24.9.0)\n",
            "Requirement already satisfied: Mako in /usr/local/lib/python3.10/dist-packages (from alembic>=1.5.0->optuna<4.1->sktime[all_extras]) (1.3.5)\n",
            "Requirement already satisfied: wheel<1.0,>=0.23.0 in /usr/local/lib/python3.10/dist-packages (from astunparse>=1.6.0->tensorflow<2.17,>=2->sktime[all_extras]) (0.44.0)\n",
            "Requirement already satisfied: stanio<2.0.0,>=0.4.0 in /usr/local/lib/python3.10/dist-packages (from cmdstanpy>=1.0.4->prophet>=1.1->sktime[all_extras]) (0.5.1)\n",
            "Requirement already satisfied: itsdangerous>=2.0 in /usr/local/lib/python3.10/dist-packages (from Flask<3.1,>=1.0.4->dash!=2.9.0->sktime[all_extras]) (2.2.0)\n",
            "Requirement already satisfied: click>=8.0 in /usr/local/lib/python3.10/dist-packages (from Flask<3.1,>=1.0.4->dash!=2.9.0->sktime[all_extras]) (8.1.7)\n",
            "Requirement already satisfied: triad>=0.9.7 in /usr/local/lib/python3.10/dist-packages (from fugue>=0.8.1->statsforecast<1.8.0,>=1.0.0->sktime[all_extras]) (0.9.8)\n",
            "Requirement already satisfied: adagio>=0.2.4 in /usr/local/lib/python3.10/dist-packages (from fugue>=0.8.1->statsforecast<1.8.0,>=1.0.0->sktime[all_extras]) (0.2.6)\n",
            "Requirement already satisfied: MarkupSafe>=2.0 in /usr/local/lib/python3.10/dist-packages (from jinja2->mne->sktime[all_extras]) (3.0.1)\n",
            "Requirement already satisfied: rich in /usr/local/lib/python3.10/dist-packages (from keras>=3.0.0->tensorflow<2.17,>=2->sktime[all_extras]) (13.9.2)\n",
            "Requirement already satisfied: namex in /usr/local/lib/python3.10/dist-packages (from keras>=3.0.0->tensorflow<2.17,>=2->sktime[all_extras]) (0.0.8)\n",
            "Requirement already satisfied: optree in /usr/local/lib/python3.10/dist-packages (from keras>=3.0.0->tensorflow<2.17,>=2->sktime[all_extras]) (0.13.0)\n",
            "Requirement already satisfied: tenacity>=6.2.0 in /usr/local/lib/python3.10/dist-packages (from plotly>=5.0.0->dash!=2.9.0->sktime[all_extras]) (9.0.0)\n",
            "Requirement already satisfied: platformdirs>=2.5.0 in /usr/local/lib/python3.10/dist-packages (from pooch>=1.5->mne->sktime[all_extras]) (4.3.6)\n",
            "Requirement already satisfied: annotated-types>=0.6.0 in /usr/local/lib/python3.10/dist-packages (from pydantic<3,>=1.7->gluonts>=0.9->sktime[all_extras]) (0.7.0)\n",
            "Requirement already satisfied: pydantic-core==2.23.4 in /usr/local/lib/python3.10/dist-packages (from pydantic<3,>=1.7->gluonts>=0.9->sktime[all_extras]) (2.23.4)\n",
            "Requirement already satisfied: charset-normalizer<4,>=2 in /usr/local/lib/python3.10/dist-packages (from requests->dash!=2.9.0->sktime[all_extras]) (3.4.0)\n",
            "Requirement already satisfied: idna<4,>=2.5 in /usr/local/lib/python3.10/dist-packages (from requests->dash!=2.9.0->sktime[all_extras]) (3.10)\n",
            "Requirement already satisfied: certifi>=2017.4.17 in /usr/local/lib/python3.10/dist-packages (from requests->dash!=2.9.0->sktime[all_extras]) (2024.8.30)\n",
            "Requirement already satisfied: slicer==0.0.8 in /usr/local/lib/python3.10/dist-packages (from shap>=0.40.0->u8darts<0.31,>=0.29.0->sktime[all_extras]) (0.0.8)\n",
            "Requirement already satisfied: greenlet!=0.4.17 in /usr/local/lib/python3.10/dist-packages (from sqlalchemy>=1.3.0->optuna<4.1->sktime[all_extras]) (3.1.1)\n",
            "Requirement already satisfied: markdown>=2.6.8 in /usr/local/lib/python3.10/dist-packages (from tensorboard<2.17,>=2.16->tensorflow<2.17,>=2->sktime[all_extras]) (3.7)\n",
            "Requirement already satisfied: tensorboard-data-server<0.8.0,>=0.7.0 in /usr/local/lib/python3.10/dist-packages (from tensorboard<2.17,>=2.16->tensorflow<2.17,>=2->sktime[all_extras]) (0.7.2)\n",
            "Requirement already satisfied: nvidia-nccl-cu12 in /usr/local/lib/python3.10/dist-packages (from xgboost>=1.6.0->u8darts<0.31,>=0.29.0->sktime[all_extras]) (2.23.4)\n",
            "Requirement already satisfied: zipp>=3.20 in /usr/local/lib/python3.10/dist-packages (from importlib-metadata->dash!=2.9.0->sktime[all_extras]) (3.20.2)\n",
            "Requirement already satisfied: pyarrow>=7.0.0 in /usr/local/lib/python3.10/dist-packages (from polars<2.0,>=0.20->polars[pandas]<2.0,>=0.20; extra == \"all-extras\"->sktime[all_extras]) (16.1.0)\n",
            "Requirement already satisfied: fsspec>=2022.5.0 in /usr/local/lib/python3.10/dist-packages (from triad>=0.9.7->fugue>=0.8.1->statsforecast<1.8.0,>=1.0.0->sktime[all_extras]) (2024.6.1)\n",
            "Requirement already satisfied: fs in /usr/local/lib/python3.10/dist-packages (from triad>=0.9.7->fugue>=0.8.1->statsforecast<1.8.0,>=1.0.0->sktime[all_extras]) (2.4.16)\n",
            "Requirement already satisfied: markdown-it-py>=2.2.0 in /usr/local/lib/python3.10/dist-packages (from rich->keras>=3.0.0->tensorflow<2.17,>=2->sktime[all_extras]) (3.0.0)\n",
            "Requirement already satisfied: pygments<3.0.0,>=2.13.0 in /usr/local/lib/python3.10/dist-packages (from rich->keras>=3.0.0->tensorflow<2.17,>=2->sktime[all_extras]) (2.18.0)\n",
            "Requirement already satisfied: mdurl~=0.1 in /usr/local/lib/python3.10/dist-packages (from markdown-it-py>=2.2.0->rich->keras>=3.0.0->tensorflow<2.17,>=2->sktime[all_extras]) (0.1.2)\n",
            "Requirement already satisfied: appdirs~=1.4.3 in /usr/local/lib/python3.10/dist-packages (from fs->triad>=0.9.7->fugue>=0.8.1->statsforecast<1.8.0,>=1.0.0->sktime[all_extras]) (1.4.4)\n"
          ]
        }
      ]
    },
    {
      "cell_type": "code",
      "source": [
        "import numpy as np\n",
        "import pandas as pd\n",
        "import matplotlib.pyplot as plt\n",
        "import seaborn as sns\n",
        "import plotly.express as px"
      ],
      "metadata": {
        "id": "n0DsjUD_E6GT"
      },
      "execution_count": 15,
      "outputs": []
    },
    {
      "cell_type": "code",
      "source": [
        "from sktime.forecasting.base import ForecastingHorizon"
      ],
      "metadata": {
        "id": "oVz6gYbHFQmO"
      },
      "execution_count": 16,
      "outputs": []
    },
    {
      "cell_type": "code",
      "source": [
        "ts = pd.read_csv('https://raw.githubusercontent.com/ranalytics/tsa-r/master/data/cryptos_price.csv')\n",
        "ts=ts.sort_values(by='ds')\n",
        "ts['ds'] = pd.to_datetime(ts['ds'])\n",
        "ts"
      ],
      "metadata": {
        "colab": {
          "base_uri": "https://localhost:8080/",
          "height": 423
        },
        "id": "jQ9Fqyq6Faaq",
        "outputId": "d46e3852-546e-496f-e5f4-e3b39fd4b827"
      },
      "execution_count": 17,
      "outputs": [
        {
          "output_type": "execute_result",
          "data": {
            "text/plain": [
              "                y         ds      coin\n",
              "7754     4.530000 2018-01-01     tezos\n",
              "2114     2.390000 2018-01-01       xrp\n",
              "2819     1.010000 2018-01-01    tether\n",
              "3524   229.030000 2018-01-01  litecoin\n",
              "4229     8.840000 2018-01-01       eos\n",
              "...           ...        ...       ...\n",
              "4230     0.055028 2019-12-06   stellar\n",
              "3525     2.740000 2019-12-06       eos\n",
              "2820    45.670000 2019-12-06  litecoin\n",
              "2115     1.000000 2019-12-06    tether\n",
              "0     7547.000000 2019-12-06   bitcoin\n",
              "\n",
              "[15510 rows x 3 columns]"
            ],
            "text/html": [
              "\n",
              "  <div id=\"df-ec8ddc2a-8548-4915-995b-3bfffdc1b532\" class=\"colab-df-container\">\n",
              "    <div>\n",
              "<style scoped>\n",
              "    .dataframe tbody tr th:only-of-type {\n",
              "        vertical-align: middle;\n",
              "    }\n",
              "\n",
              "    .dataframe tbody tr th {\n",
              "        vertical-align: top;\n",
              "    }\n",
              "\n",
              "    .dataframe thead th {\n",
              "        text-align: right;\n",
              "    }\n",
              "</style>\n",
              "<table border=\"1\" class=\"dataframe\">\n",
              "  <thead>\n",
              "    <tr style=\"text-align: right;\">\n",
              "      <th></th>\n",
              "      <th>y</th>\n",
              "      <th>ds</th>\n",
              "      <th>coin</th>\n",
              "    </tr>\n",
              "  </thead>\n",
              "  <tbody>\n",
              "    <tr>\n",
              "      <th>7754</th>\n",
              "      <td>4.530000</td>\n",
              "      <td>2018-01-01</td>\n",
              "      <td>tezos</td>\n",
              "    </tr>\n",
              "    <tr>\n",
              "      <th>2114</th>\n",
              "      <td>2.390000</td>\n",
              "      <td>2018-01-01</td>\n",
              "      <td>xrp</td>\n",
              "    </tr>\n",
              "    <tr>\n",
              "      <th>2819</th>\n",
              "      <td>1.010000</td>\n",
              "      <td>2018-01-01</td>\n",
              "      <td>tether</td>\n",
              "    </tr>\n",
              "    <tr>\n",
              "      <th>3524</th>\n",
              "      <td>229.030000</td>\n",
              "      <td>2018-01-01</td>\n",
              "      <td>litecoin</td>\n",
              "    </tr>\n",
              "    <tr>\n",
              "      <th>4229</th>\n",
              "      <td>8.840000</td>\n",
              "      <td>2018-01-01</td>\n",
              "      <td>eos</td>\n",
              "    </tr>\n",
              "    <tr>\n",
              "      <th>...</th>\n",
              "      <td>...</td>\n",
              "      <td>...</td>\n",
              "      <td>...</td>\n",
              "    </tr>\n",
              "    <tr>\n",
              "      <th>4230</th>\n",
              "      <td>0.055028</td>\n",
              "      <td>2019-12-06</td>\n",
              "      <td>stellar</td>\n",
              "    </tr>\n",
              "    <tr>\n",
              "      <th>3525</th>\n",
              "      <td>2.740000</td>\n",
              "      <td>2019-12-06</td>\n",
              "      <td>eos</td>\n",
              "    </tr>\n",
              "    <tr>\n",
              "      <th>2820</th>\n",
              "      <td>45.670000</td>\n",
              "      <td>2019-12-06</td>\n",
              "      <td>litecoin</td>\n",
              "    </tr>\n",
              "    <tr>\n",
              "      <th>2115</th>\n",
              "      <td>1.000000</td>\n",
              "      <td>2019-12-06</td>\n",
              "      <td>tether</td>\n",
              "    </tr>\n",
              "    <tr>\n",
              "      <th>0</th>\n",
              "      <td>7547.000000</td>\n",
              "      <td>2019-12-06</td>\n",
              "      <td>bitcoin</td>\n",
              "    </tr>\n",
              "  </tbody>\n",
              "</table>\n",
              "<p>15510 rows × 3 columns</p>\n",
              "</div>\n",
              "    <div class=\"colab-df-buttons\">\n",
              "\n",
              "  <div class=\"colab-df-container\">\n",
              "    <button class=\"colab-df-convert\" onclick=\"convertToInteractive('df-ec8ddc2a-8548-4915-995b-3bfffdc1b532')\"\n",
              "            title=\"Convert this dataframe to an interactive table.\"\n",
              "            style=\"display:none;\">\n",
              "\n",
              "  <svg xmlns=\"http://www.w3.org/2000/svg\" height=\"24px\" viewBox=\"0 -960 960 960\">\n",
              "    <path d=\"M120-120v-720h720v720H120Zm60-500h600v-160H180v160Zm220 220h160v-160H400v160Zm0 220h160v-160H400v160ZM180-400h160v-160H180v160Zm440 0h160v-160H620v160ZM180-180h160v-160H180v160Zm440 0h160v-160H620v160Z\"/>\n",
              "  </svg>\n",
              "    </button>\n",
              "\n",
              "  <style>\n",
              "    .colab-df-container {\n",
              "      display:flex;\n",
              "      gap: 12px;\n",
              "    }\n",
              "\n",
              "    .colab-df-convert {\n",
              "      background-color: #E8F0FE;\n",
              "      border: none;\n",
              "      border-radius: 50%;\n",
              "      cursor: pointer;\n",
              "      display: none;\n",
              "      fill: #1967D2;\n",
              "      height: 32px;\n",
              "      padding: 0 0 0 0;\n",
              "      width: 32px;\n",
              "    }\n",
              "\n",
              "    .colab-df-convert:hover {\n",
              "      background-color: #E2EBFA;\n",
              "      box-shadow: 0px 1px 2px rgba(60, 64, 67, 0.3), 0px 1px 3px 1px rgba(60, 64, 67, 0.15);\n",
              "      fill: #174EA6;\n",
              "    }\n",
              "\n",
              "    .colab-df-buttons div {\n",
              "      margin-bottom: 4px;\n",
              "    }\n",
              "\n",
              "    [theme=dark] .colab-df-convert {\n",
              "      background-color: #3B4455;\n",
              "      fill: #D2E3FC;\n",
              "    }\n",
              "\n",
              "    [theme=dark] .colab-df-convert:hover {\n",
              "      background-color: #434B5C;\n",
              "      box-shadow: 0px 1px 3px 1px rgba(0, 0, 0, 0.15);\n",
              "      filter: drop-shadow(0px 1px 2px rgba(0, 0, 0, 0.3));\n",
              "      fill: #FFFFFF;\n",
              "    }\n",
              "  </style>\n",
              "\n",
              "    <script>\n",
              "      const buttonEl =\n",
              "        document.querySelector('#df-ec8ddc2a-8548-4915-995b-3bfffdc1b532 button.colab-df-convert');\n",
              "      buttonEl.style.display =\n",
              "        google.colab.kernel.accessAllowed ? 'block' : 'none';\n",
              "\n",
              "      async function convertToInteractive(key) {\n",
              "        const element = document.querySelector('#df-ec8ddc2a-8548-4915-995b-3bfffdc1b532');\n",
              "        const dataTable =\n",
              "          await google.colab.kernel.invokeFunction('convertToInteractive',\n",
              "                                                    [key], {});\n",
              "        if (!dataTable) return;\n",
              "\n",
              "        const docLinkHtml = 'Like what you see? Visit the ' +\n",
              "          '<a target=\"_blank\" href=https://colab.research.google.com/notebooks/data_table.ipynb>data table notebook</a>'\n",
              "          + ' to learn more about interactive tables.';\n",
              "        element.innerHTML = '';\n",
              "        dataTable['output_type'] = 'display_data';\n",
              "        await google.colab.output.renderOutput(dataTable, element);\n",
              "        const docLink = document.createElement('div');\n",
              "        docLink.innerHTML = docLinkHtml;\n",
              "        element.appendChild(docLink);\n",
              "      }\n",
              "    </script>\n",
              "  </div>\n",
              "\n",
              "\n",
              "<div id=\"df-fde738cd-255b-4094-9ebf-63e644577548\">\n",
              "  <button class=\"colab-df-quickchart\" onclick=\"quickchart('df-fde738cd-255b-4094-9ebf-63e644577548')\"\n",
              "            title=\"Suggest charts\"\n",
              "            style=\"display:none;\">\n",
              "\n",
              "<svg xmlns=\"http://www.w3.org/2000/svg\" height=\"24px\"viewBox=\"0 0 24 24\"\n",
              "     width=\"24px\">\n",
              "    <g>\n",
              "        <path d=\"M19 3H5c-1.1 0-2 .9-2 2v14c0 1.1.9 2 2 2h14c1.1 0 2-.9 2-2V5c0-1.1-.9-2-2-2zM9 17H7v-7h2v7zm4 0h-2V7h2v10zm4 0h-2v-4h2v4z\"/>\n",
              "    </g>\n",
              "</svg>\n",
              "  </button>\n",
              "\n",
              "<style>\n",
              "  .colab-df-quickchart {\n",
              "      --bg-color: #E8F0FE;\n",
              "      --fill-color: #1967D2;\n",
              "      --hover-bg-color: #E2EBFA;\n",
              "      --hover-fill-color: #174EA6;\n",
              "      --disabled-fill-color: #AAA;\n",
              "      --disabled-bg-color: #DDD;\n",
              "  }\n",
              "\n",
              "  [theme=dark] .colab-df-quickchart {\n",
              "      --bg-color: #3B4455;\n",
              "      --fill-color: #D2E3FC;\n",
              "      --hover-bg-color: #434B5C;\n",
              "      --hover-fill-color: #FFFFFF;\n",
              "      --disabled-bg-color: #3B4455;\n",
              "      --disabled-fill-color: #666;\n",
              "  }\n",
              "\n",
              "  .colab-df-quickchart {\n",
              "    background-color: var(--bg-color);\n",
              "    border: none;\n",
              "    border-radius: 50%;\n",
              "    cursor: pointer;\n",
              "    display: none;\n",
              "    fill: var(--fill-color);\n",
              "    height: 32px;\n",
              "    padding: 0;\n",
              "    width: 32px;\n",
              "  }\n",
              "\n",
              "  .colab-df-quickchart:hover {\n",
              "    background-color: var(--hover-bg-color);\n",
              "    box-shadow: 0 1px 2px rgba(60, 64, 67, 0.3), 0 1px 3px 1px rgba(60, 64, 67, 0.15);\n",
              "    fill: var(--button-hover-fill-color);\n",
              "  }\n",
              "\n",
              "  .colab-df-quickchart-complete:disabled,\n",
              "  .colab-df-quickchart-complete:disabled:hover {\n",
              "    background-color: var(--disabled-bg-color);\n",
              "    fill: var(--disabled-fill-color);\n",
              "    box-shadow: none;\n",
              "  }\n",
              "\n",
              "  .colab-df-spinner {\n",
              "    border: 2px solid var(--fill-color);\n",
              "    border-color: transparent;\n",
              "    border-bottom-color: var(--fill-color);\n",
              "    animation:\n",
              "      spin 1s steps(1) infinite;\n",
              "  }\n",
              "\n",
              "  @keyframes spin {\n",
              "    0% {\n",
              "      border-color: transparent;\n",
              "      border-bottom-color: var(--fill-color);\n",
              "      border-left-color: var(--fill-color);\n",
              "    }\n",
              "    20% {\n",
              "      border-color: transparent;\n",
              "      border-left-color: var(--fill-color);\n",
              "      border-top-color: var(--fill-color);\n",
              "    }\n",
              "    30% {\n",
              "      border-color: transparent;\n",
              "      border-left-color: var(--fill-color);\n",
              "      border-top-color: var(--fill-color);\n",
              "      border-right-color: var(--fill-color);\n",
              "    }\n",
              "    40% {\n",
              "      border-color: transparent;\n",
              "      border-right-color: var(--fill-color);\n",
              "      border-top-color: var(--fill-color);\n",
              "    }\n",
              "    60% {\n",
              "      border-color: transparent;\n",
              "      border-right-color: var(--fill-color);\n",
              "    }\n",
              "    80% {\n",
              "      border-color: transparent;\n",
              "      border-right-color: var(--fill-color);\n",
              "      border-bottom-color: var(--fill-color);\n",
              "    }\n",
              "    90% {\n",
              "      border-color: transparent;\n",
              "      border-bottom-color: var(--fill-color);\n",
              "    }\n",
              "  }\n",
              "</style>\n",
              "\n",
              "  <script>\n",
              "    async function quickchart(key) {\n",
              "      const quickchartButtonEl =\n",
              "        document.querySelector('#' + key + ' button');\n",
              "      quickchartButtonEl.disabled = true;  // To prevent multiple clicks.\n",
              "      quickchartButtonEl.classList.add('colab-df-spinner');\n",
              "      try {\n",
              "        const charts = await google.colab.kernel.invokeFunction(\n",
              "            'suggestCharts', [key], {});\n",
              "      } catch (error) {\n",
              "        console.error('Error during call to suggestCharts:', error);\n",
              "      }\n",
              "      quickchartButtonEl.classList.remove('colab-df-spinner');\n",
              "      quickchartButtonEl.classList.add('colab-df-quickchart-complete');\n",
              "    }\n",
              "    (() => {\n",
              "      let quickchartButtonEl =\n",
              "        document.querySelector('#df-fde738cd-255b-4094-9ebf-63e644577548 button');\n",
              "      quickchartButtonEl.style.display =\n",
              "        google.colab.kernel.accessAllowed ? 'block' : 'none';\n",
              "    })();\n",
              "  </script>\n",
              "</div>\n",
              "    </div>\n",
              "  </div>\n"
            ],
            "application/vnd.google.colaboratory.intrinsic+json": {
              "type": "dataframe",
              "variable_name": "ts",
              "summary": "{\n  \"name\": \"ts\",\n  \"rows\": 15510,\n  \"fields\": [\n    {\n      \"column\": \"y\",\n      \"properties\": {\n        \"dtype\": \"number\",\n        \"std\": 1649.2789842502484,\n        \"min\": 0.001845,\n        \"max\": 17527.0,\n        \"num_unique_values\": 11958,\n        \"samples\": [\n          0.18671,\n          71.08,\n          0.02686\n        ],\n        \"semantic_type\": \"\",\n        \"description\": \"\"\n      }\n    },\n    {\n      \"column\": \"ds\",\n      \"properties\": {\n        \"dtype\": \"date\",\n        \"min\": \"2018-01-01 00:00:00\",\n        \"max\": \"2019-12-06 00:00:00\",\n        \"num_unique_values\": 705,\n        \"samples\": [\n          \"2019-04-24 00:00:00\",\n          \"2018-03-23 00:00:00\",\n          \"2018-03-19 00:00:00\"\n        ],\n        \"semantic_type\": \"\",\n        \"description\": \"\"\n      }\n    },\n    {\n      \"column\": \"coin\",\n      \"properties\": {\n        \"dtype\": \"category\",\n        \"num_unique_values\": 22,\n        \"samples\": [\n          \"tezos\",\n          \"maker\",\n          \"monero\"\n        ],\n        \"semantic_type\": \"\",\n        \"description\": \"\"\n      }\n    }\n  ]\n}"
            }
          },
          "metadata": {},
          "execution_count": 17
        }
      ]
    },
    {
      "cell_type": "code",
      "source": [
        "bc = ts[ts['coin'] == 'bitcoin']"
      ],
      "metadata": {
        "id": "b0mEfxyaFiSf"
      },
      "execution_count": 18,
      "outputs": []
    },
    {
      "cell_type": "code",
      "source": [
        "bc.info()"
      ],
      "metadata": {
        "colab": {
          "base_uri": "https://localhost:8080/"
        },
        "id": "bfBQAuMpGfN2",
        "outputId": "f4886d1b-3106-406a-e02d-6fa618eccea1"
      },
      "execution_count": 19,
      "outputs": [
        {
          "output_type": "stream",
          "name": "stdout",
          "text": [
            "<class 'pandas.core.frame.DataFrame'>\n",
            "Index: 705 entries, 704 to 0\n",
            "Data columns (total 3 columns):\n",
            " #   Column  Non-Null Count  Dtype         \n",
            "---  ------  --------------  -----         \n",
            " 0   y       705 non-null    float64       \n",
            " 1   ds      705 non-null    datetime64[ns]\n",
            " 2   coin    705 non-null    object        \n",
            "dtypes: datetime64[ns](1), float64(1), object(1)\n",
            "memory usage: 22.0+ KB\n"
          ]
        }
      ]
    },
    {
      "cell_type": "code",
      "source": [
        "y = bc['y']\n",
        "y.index = bc['ds']"
      ],
      "metadata": {
        "id": "6D1YHarxHTja"
      },
      "execution_count": 20,
      "outputs": []
    },
    {
      "cell_type": "code",
      "source": [
        "y = y.squeeze().asfreq(freq='D')"
      ],
      "metadata": {
        "id": "4uhgqyVnKzEJ"
      },
      "execution_count": 21,
      "outputs": []
    },
    {
      "cell_type": "code",
      "source": [
        "y"
      ],
      "metadata": {
        "colab": {
          "base_uri": "https://localhost:8080/",
          "height": 489
        },
        "id": "JtuOyP76Pmh9",
        "outputId": "0f675a85-94e4-4b79-92a5-9113a8fdfeb4"
      },
      "execution_count": 22,
      "outputs": [
        {
          "output_type": "execute_result",
          "data": {
            "text/plain": [
              "ds\n",
              "2018-01-01    13657.20\n",
              "2018-01-02    14982.10\n",
              "2018-01-03    15201.00\n",
              "2018-01-04    15599.20\n",
              "2018-01-05    17429.50\n",
              "                ...   \n",
              "2019-12-02     7321.99\n",
              "2019-12-03     7320.15\n",
              "2019-12-04     7252.03\n",
              "2019-12-05     7448.31\n",
              "2019-12-06     7547.00\n",
              "Freq: D, Name: y, Length: 705, dtype: float64"
            ],
            "text/html": [
              "<div>\n",
              "<style scoped>\n",
              "    .dataframe tbody tr th:only-of-type {\n",
              "        vertical-align: middle;\n",
              "    }\n",
              "\n",
              "    .dataframe tbody tr th {\n",
              "        vertical-align: top;\n",
              "    }\n",
              "\n",
              "    .dataframe thead th {\n",
              "        text-align: right;\n",
              "    }\n",
              "</style>\n",
              "<table border=\"1\" class=\"dataframe\">\n",
              "  <thead>\n",
              "    <tr style=\"text-align: right;\">\n",
              "      <th></th>\n",
              "      <th>y</th>\n",
              "    </tr>\n",
              "    <tr>\n",
              "      <th>ds</th>\n",
              "      <th></th>\n",
              "    </tr>\n",
              "  </thead>\n",
              "  <tbody>\n",
              "    <tr>\n",
              "      <th>2018-01-01</th>\n",
              "      <td>13657.20</td>\n",
              "    </tr>\n",
              "    <tr>\n",
              "      <th>2018-01-02</th>\n",
              "      <td>14982.10</td>\n",
              "    </tr>\n",
              "    <tr>\n",
              "      <th>2018-01-03</th>\n",
              "      <td>15201.00</td>\n",
              "    </tr>\n",
              "    <tr>\n",
              "      <th>2018-01-04</th>\n",
              "      <td>15599.20</td>\n",
              "    </tr>\n",
              "    <tr>\n",
              "      <th>2018-01-05</th>\n",
              "      <td>17429.50</td>\n",
              "    </tr>\n",
              "    <tr>\n",
              "      <th>...</th>\n",
              "      <td>...</td>\n",
              "    </tr>\n",
              "    <tr>\n",
              "      <th>2019-12-02</th>\n",
              "      <td>7321.99</td>\n",
              "    </tr>\n",
              "    <tr>\n",
              "      <th>2019-12-03</th>\n",
              "      <td>7320.15</td>\n",
              "    </tr>\n",
              "    <tr>\n",
              "      <th>2019-12-04</th>\n",
              "      <td>7252.03</td>\n",
              "    </tr>\n",
              "    <tr>\n",
              "      <th>2019-12-05</th>\n",
              "      <td>7448.31</td>\n",
              "    </tr>\n",
              "    <tr>\n",
              "      <th>2019-12-06</th>\n",
              "      <td>7547.00</td>\n",
              "    </tr>\n",
              "  </tbody>\n",
              "</table>\n",
              "<p>705 rows × 1 columns</p>\n",
              "</div><br><label><b>dtype:</b> float64</label>"
            ]
          },
          "metadata": {},
          "execution_count": 22
        }
      ]
    },
    {
      "cell_type": "code",
      "source": [
        "from sktime.datasets import load_airline\n",
        "from sktime.forecasting.base import ForecastingHorizon\n",
        "from sktime.performance_metrics.forecasting import mean_absolute_percentage_error\n",
        "from sktime.split import temporal_train_test_split\n",
        "import dask.dataframe as dd\n",
        "\n",
        "#y = load_airline()\n",
        "y_train, y_test = temporal_train_test_split(y, test_size =100)\n"
      ],
      "metadata": {
        "id": "Ok1ArL42HLh5"
      },
      "execution_count": 23,
      "outputs": []
    },
    {
      "cell_type": "code",
      "source": [
        "y_train.shape"
      ],
      "metadata": {
        "id": "inQGUbnHLKfk",
        "colab": {
          "base_uri": "https://localhost:8080/"
        },
        "outputId": "6c594d97-4212-491a-8797-d8cc826d5215"
      },
      "execution_count": 24,
      "outputs": [
        {
          "output_type": "execute_result",
          "data": {
            "text/plain": [
              "(605,)"
            ]
          },
          "metadata": {},
          "execution_count": 24
        }
      ]
    },
    {
      "cell_type": "code",
      "source": [
        "y_test.shape"
      ],
      "metadata": {
        "id": "O-x3O4oWLQOd",
        "colab": {
          "base_uri": "https://localhost:8080/"
        },
        "outputId": "71f9eb4c-8b60-49df-e5a2-4bd4347a9e0f"
      },
      "execution_count": 25,
      "outputs": [
        {
          "output_type": "execute_result",
          "data": {
            "text/plain": [
              "(100,)"
            ]
          },
          "metadata": {},
          "execution_count": 25
        }
      ]
    },
    {
      "cell_type": "code",
      "source": [
        "fh = ForecastingHorizon(y_test.index, is_relative=False)\n",
        "fh"
      ],
      "metadata": {
        "id": "Kl46KeyxLU61",
        "colab": {
          "base_uri": "https://localhost:8080/"
        },
        "outputId": "0c6ca582-50c8-4d0b-ee91-d7cb1292f782"
      },
      "execution_count": 26,
      "outputs": [
        {
          "output_type": "execute_result",
          "data": {
            "text/plain": [
              "ForecastingHorizon(['2019-08-29', '2019-08-30', '2019-08-31', '2019-09-01',\n",
              "               '2019-09-02', '2019-09-03', '2019-09-04', '2019-09-05',\n",
              "               '2019-09-06', '2019-09-07', '2019-09-08', '2019-09-09',\n",
              "               '2019-09-10', '2019-09-11', '2019-09-12', '2019-09-13',\n",
              "               '2019-09-14', '2019-09-15', '2019-09-16', '2019-09-17',\n",
              "               '2019-09-18', '2019-09-19', '2019-09-20', '2019-09-21',\n",
              "               '2019-09-22', '2019-09-23', '2019-09-24', '2019-09-25',\n",
              "               '2019-09-26', '2019-09-27', '2019-09-28', '2019-09-29',\n",
              "               '2019-09-30', '2019-10-01', '2019-10-02', '2019-10-03',\n",
              "               '2019-10-04', '2019-10-05', '2019-10-06', '2019-10-07',\n",
              "               '2019-10-08', '2019-10-09', '2019-10-10', '2019-10-11',\n",
              "               '2019-10-12', '2019-10-13', '2019-10-14', '2019-10-15',\n",
              "               '2019-10-16', '2019-10-17', '2019-10-18', '2019-10-19',\n",
              "               '2019-10-20', '2019-10-21', '2019-10-22', '2019-10-23',\n",
              "               '2019-10-24', '2019-10-25', '2019-10-26', '2019-10-27',\n",
              "               '2019-10-28', '2019-10-29', '2019-10-30', '2019-10-31',\n",
              "               '2019-11-01', '2019-11-02', '2019-11-03', '2019-11-04',\n",
              "               '2019-11-05', '2019-11-06', '2019-11-07', '2019-11-08',\n",
              "               '2019-11-09', '2019-11-10', '2019-11-11', '2019-11-12',\n",
              "               '2019-11-13', '2019-11-14', '2019-11-15', '2019-11-16',\n",
              "               '2019-11-17', '2019-11-18', '2019-11-19', '2019-11-20',\n",
              "               '2019-11-21', '2019-11-22', '2019-11-23', '2019-11-24',\n",
              "               '2019-11-25', '2019-11-26', '2019-11-27', '2019-11-28',\n",
              "               '2019-11-29', '2019-11-30', '2019-12-01', '2019-12-02',\n",
              "               '2019-12-03', '2019-12-04', '2019-12-05', '2019-12-06'],\n",
              "              dtype='datetime64[ns]', name='ds', freq='D', is_relative=False)"
            ]
          },
          "metadata": {},
          "execution_count": 26
        }
      ]
    },
    {
      "cell_type": "code",
      "source": [
        "from sktime.forecasting.naive import NaiveForecaster, NaiveVariance\n",
        "from sktime.forecasting.exp_smoothing import ExponentialSmoothing\n",
        "from sktime.forecasting.arima import ARIMA\n",
        "from sktime.forecasting.sarimax import SARIMAX\n",
        "from sktime.forecasting.arima import AutoARIMA\n",
        "from sktime.forecasting.tbats import TBATS"
      ],
      "metadata": {
        "id": "mh0QYbpsLvTP"
      },
      "execution_count": 27,
      "outputs": []
    },
    {
      "cell_type": "code",
      "source": [
        "forecaster_Naive = NaiveForecaster(strategy=\"drift\")\n",
        "variance_forecaster = NaiveVariance(forecaster_Naive)\n",
        "variance_forecaster.fit(y_train)\n",
        "y_pred_Naive = variance_forecaster.predict(fh)\n",
        "mean_absolute_percentage_error(y_test, y_pred_Naive)"
      ],
      "metadata": {
        "id": "Ie_5QlyHfzI5",
        "colab": {
          "base_uri": "https://localhost:8080/"
        },
        "outputId": "4147b882-d419-4482-f4bb-c5ee501e2538"
      },
      "execution_count": 28,
      "outputs": [
        {
          "output_type": "execute_result",
          "data": {
            "text/plain": [
              "0.11281570880498094"
            ]
          },
          "metadata": {},
          "execution_count": 28
        }
      ]
    },
    {
      "cell_type": "code",
      "source": [
        "forecaster_Exp = ExponentialSmoothing(\n",
        "    trend='add', seasonal='additive'\n",
        ")\n",
        "forecaster_Exp.fit(y_train)\n",
        "y_pred_Exp = forecaster_Exp.predict(fh)\n",
        "mean_absolute_percentage_error(y_test, y_pred_Exp)\n"
      ],
      "metadata": {
        "id": "2McTsipYhWHk",
        "colab": {
          "base_uri": "https://localhost:8080/"
        },
        "outputId": "e92d0423-0dd7-4d1a-e6dc-dde6dbe948f7"
      },
      "execution_count": 29,
      "outputs": [
        {
          "output_type": "stream",
          "name": "stderr",
          "text": [
            "/usr/local/lib/python3.10/dist-packages/statsmodels/tsa/holtwinters/model.py:918: ConvergenceWarning: Optimization failed to converge. Check mle_retvals.\n",
            "  warnings.warn(\n"
          ]
        },
        {
          "output_type": "execute_result",
          "data": {
            "text/plain": [
              "0.08585341708868707"
            ]
          },
          "metadata": {},
          "execution_count": 29
        }
      ]
    },
    {
      "cell_type": "code",
      "source": [
        "forecaster_ARIMA = ARIMA(\n",
        "    order=(1, 0, 0),\n",
        "    seasonal_order=(1, 0, 0, 12),\n",
        "    suppress_warnings=True)\n",
        "\n",
        "forecaster_ARIMA.fit(y_train)\n",
        "y_pred_ARIMA = forecaster_ARIMA.predict(fh)\n",
        "mean_absolute_percentage_error(y_test, y_pred_ARIMA)"
      ],
      "metadata": {
        "id": "T0JrYZGILvQh",
        "colab": {
          "base_uri": "https://localhost:8080/"
        },
        "outputId": "6c21a3e4-d3f5-4b0b-ed92-88df665fcb83"
      },
      "execution_count": 30,
      "outputs": [
        {
          "output_type": "execute_result",
          "data": {
            "text/plain": [
              "0.10880489206794264"
            ]
          },
          "metadata": {},
          "execution_count": 30
        }
      ]
    },
    {
      "cell_type": "code",
      "source": [
        "forecaster_SARIMAX = SARIMAX(\n",
        "    order=(1, 0, 0), trend=\"t\", seasonal_order=(1, 0, 0, 6))\n",
        "\n",
        "forecaster_SARIMAX.fit(y_train)\n",
        "y_pred_SARIMAX = forecaster_SARIMAX.predict(fh)\n",
        "mean_absolute_percentage_error(y_test, y_pred_SARIMAX)"
      ],
      "metadata": {
        "id": "S2Jjcyj2drN0",
        "colab": {
          "base_uri": "https://localhost:8080/"
        },
        "outputId": "e0efbd3c-6463-4a07-b311-d4843311640f"
      },
      "execution_count": 31,
      "outputs": [
        {
          "output_type": "execute_result",
          "data": {
            "text/plain": [
              "0.2241704016728081"
            ]
          },
          "metadata": {},
          "execution_count": 31
        }
      ]
    },
    {
      "cell_type": "code",
      "source": [
        "forecaster_autoARIMA = AutoARIMA(\n",
        "    d=0, max_p=3, max_q=3, suppress_warnings=True)\n",
        "forecaster_autoARIMA.fit(y_train)\n",
        "y_pred_autoARIMA = forecaster_autoARIMA.predict(fh)\n",
        "mean_absolute_percentage_error(y_test, y_pred_autoARIMA)"
      ],
      "metadata": {
        "id": "ZXXWuIVGnzrd"
      },
      "execution_count": null,
      "outputs": []
    },
    {
      "cell_type": "markdown",
      "source": [
        "TBATS is acronym for:\n",
        "\n",
        "Trigonometric seasonality\n",
        "\n",
        "Box-Cox transformation\n",
        "\n",
        "ARMA errors\n",
        "\n",
        "Trend\n",
        "\n",
        "Seasonal components"
      ],
      "metadata": {
        "id": "CHrs5un4qAdM"
      }
    },
    {
      "cell_type": "code",
      "source": [
        "forecaster_TBATS = TBATS(\n",
        "    use_box_cox=False,\n",
        "    use_trend=True,\n",
        "    use_damped_trend=False,\n",
        "    sp=12,\n",
        "    use_arma_errors=False,\n",
        "    n_jobs=1)\n",
        "\n",
        "forecaster_TBATS.fit(y_train)\n",
        "y_pred_TBATS = forecaster_TBATS.predict(fh)\n",
        "mean_absolute_percentage_error(y_test, y_pred_TBATS)"
      ],
      "metadata": {
        "id": "9CHJWzcYqBDE"
      },
      "execution_count": null,
      "outputs": []
    },
    {
      "cell_type": "code",
      "source": [
        "fig = px.line(bc,\n",
        "              x=\"ds\", y=bc.columns[0],\n",
        "              # line_shape=\"spline\",\n",
        "              render_mode=\"svg\", log_y=False,)\n",
        "\n",
        "fig.add_scatter(x=y_pred_Naive.index,  y=y_pred_Naive, mode='lines', name='Naive')\n",
        "fig.add_scatter(x=y_pred_Exp.index,  y=y_pred_Exp, mode='lines', name='ExpSmooth')\n",
        "fig.add_scatter(x=y_pred_ARIMA.index,  y=y_pred_ARIMA, mode='lines', name='ARIMA')\n",
        "fig.add_scatter(x=y_pred_SARIMAX.index,  y=y_pred_SARIMAX, mode='lines', name='SARIMAX')\n",
        "fig.add_scatter(x=y_pred_autoARIMA.index,  y=y_pred_autoARIMA, mode='lines', name='autoARIMA')\n",
        "fig.add_scatter(x=y_pred_TBATS.index,  y=y_pred_TBATS, mode='lines', name='TBATS')\n",
        "\n",
        "fig.show()"
      ],
      "metadata": {
        "id": "7t74WXLMckeN"
      },
      "execution_count": null,
      "outputs": []
    },
    {
      "cell_type": "markdown",
      "source": [
        "Почему не получается выстроить идеальный прогноз?"
      ],
      "metadata": {
        "id": "PgWkGSSdr5To"
      }
    },
    {
      "cell_type": "code",
      "source": [
        "pip install hurst"
      ],
      "metadata": {
        "id": "0I2mNYghqoWQ"
      },
      "execution_count": null,
      "outputs": []
    },
    {
      "cell_type": "code",
      "source": [
        "# Evaluate Hurst equation\n",
        "from hurst import compute_Hc, random_walk\n",
        "H, c, data = compute_Hc(y, kind='price', simplified=True)"
      ],
      "metadata": {
        "id": "nm9nlLUTqu6o"
      },
      "execution_count": null,
      "outputs": []
    },
    {
      "cell_type": "code",
      "source": [
        "# Plot\n",
        "f, ax = plt.subplots()\n",
        "ax.plot(data[0], c*data[0]**H, color=\"deepskyblue\")\n",
        "ax.scatter(data[0], data[1], color=\"purple\")\n",
        "ax.set_xscale('log')\n",
        "ax.set_yscale('log')\n",
        "ax.set_xlabel('Time interval')\n",
        "ax.set_ylabel('R/S ratio')\n",
        "ax.grid(True)\n",
        "plt.show()\n",
        "\n",
        "print(\"H={:.4f}, c={:.4f}\".format(H,c))"
      ],
      "metadata": {
        "id": "LTq8XF8Cq5op"
      },
      "execution_count": null,
      "outputs": []
    },
    {
      "cell_type": "markdown",
      "source": [
        "H = 0.5 — случайное блуждание,\n",
        "\n",
        "0.5 < H < 1.0 — персистентный временной ряд,\n",
        "\n",
        "0 < H < 0.5 — непресистентный временной ряд.\n",
        "\n",
        "\n",
        "Временной ряд для приведенного примера является персистентным (устойчивым). Такой ряд характеризуется наличием долговременной памяти, которая обуславливает информационное влияние в течение больших периодов времени."
      ],
      "metadata": {
        "id": "2mE4kNLWrAua"
      }
    }
  ]
}