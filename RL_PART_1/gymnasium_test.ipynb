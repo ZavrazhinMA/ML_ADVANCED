{
 "cells": [
  {
   "cell_type": "code",
   "execution_count": 1,
   "metadata": {
    "tags": []
   },
   "outputs": [],
   "source": [
    "import numpy as np\n",
    "import matplotlib.pyplot as plt\n",
    "%matplotlib inline\n",
    "import time"
   ]
  },
  {
   "cell_type": "markdown",
   "metadata": {},
   "source": [
    "### Gymnasium\n",
    "\n",
    "https://gymnasium.farama.org\n",
    "\n",
    "Это библиотека Python, которая предоставляет готовые реализации классических задач принятия решений — от управления роботами до видеоигр и настольных игр.\n",
    "\n",
    "Вот как она работает:"
   ]
  },
  {
   "cell_type": "code",
   "execution_count": 2,
   "metadata": {},
   "outputs": [],
   "source": [
    "# pip install gymnasium\n",
    "# pip install pygame"
   ]
  },
  {
   "cell_type": "code",
   "execution_count": 3,
   "metadata": {
    "tags": []
   },
   "outputs": [],
   "source": [
    "import gymnasium as gym"
   ]
  },
  {
   "cell_type": "code",
   "execution_count": 4,
   "metadata": {
    "tags": []
   },
   "outputs": [],
   "source": [
    "env = gym.make(\"MountainCar-v0\", render_mode=\"rgb_array\")"
   ]
  },
  {
   "cell_type": "code",
   "execution_count": 5,
   "metadata": {
    "tags": []
   },
   "outputs": [
    {
     "data": {
      "text/plain": [
       "(array([-0.4738528,  0.       ], dtype=float32), {})"
      ]
     },
     "execution_count": 5,
     "metadata": {},
     "output_type": "execute_result"
    }
   ],
   "source": [
    "env.reset()"
   ]
  },
  {
   "cell_type": "code",
   "execution_count": 6,
   "metadata": {
    "tags": []
   },
   "outputs": [
    {
     "data": {
      "image/png": "[encoded data removed]",
      "text/plain": [
       "<Figure size 640x480 with 1 Axes>"
      ]
     },
     "metadata": {},
     "output_type": "display_data"
    }
   ],
   "source": [
    "plt.imshow(env.render())\n",
    "plt.show() "
   ]
  },
  {
   "cell_type": "markdown",
   "metadata": {},
   "source": [
    "https://gymnasium.farama.org/environments/classic_control/mountain_car/"
   ]
  },
  {
   "cell_type": "markdown",
   "metadata": {},
   "source": [
    "Mountain Car\n",
    "![Mountain Car](https://gymnasium.farama.org/_images/mountain_car.gif)\n",
    "\n",
    "Это окружение является частью Classic Control, которое содержит общую информацию о среде.\n",
    "\n",
    "Пространство действий\n",
    "Discrete(3)\n",
    "\n",
    "Пространство наблюдений\n",
    "Box([-1.2 -0.07], [0.6 0.07], (2,), float32)"
   ]
  },
  {
   "cell_type": "markdown",
   "metadata": {},
   "source": [
    "Описание\n",
    "Mountain Car — это детерминированная среда MDP, в которой машина случайным образом размещается внизу синусоидальной долины. Единственные возможные действия — ускорения, применяемые к машине влево или вправо. Цель — стратегически ускоряться, чтобы достичь вершины правого холма. В Gymnasium есть две версии: с дискретными и непрерывными действиями. Здесь рассматривается версия с дискретными действиями.\n",
    "\n",
    "Эта MDP впервые появилась в диссертации Эндрю Мура (1990):"
   ]
  },
  {
   "cell_type": "markdown",
   "metadata": {},
   "source": [
    "### Пространство наблюдений\n",
    "Наблюдение — это `ndarray` формы `(2,)`, где элементы соответствуют:  \n",
    "\n",
    "| Индекс | Наблюдение               | Мин   | Макс  | Единицы измерения |\n",
    "|--------|--------------------------|-------|-------|-------------------|\n",
    "| 0      | Позиция машины по оси X  | -1.2  | 0.6   | м                 |\n",
    "| 1      | Скорость машины          | -0.07 | 0.07  | м/с               |\n",
    "\n",
    "### Пространство действий\n",
    "Есть 3 дискретных действия:  \n",
    "- `0`: Ускорение влево  \n",
    "- `1`: Без ускорения  \n",
    "- `2`: Ускорение вправо  \n"
   ]
  },
  {
   "cell_type": "markdown",
   "metadata": {},
   "source": [
    "\n",
    "### Динамика переходов\n",
    "Формулы обновления состояния:\n",
    "\n",
    "```python\n",
    "velocity_{t+1} = velocity_t + (action - 1) * force - cos(3 * position_t) * gravity\n",
    "position_{t+1} = position_t + velocity_{t+1}\n",
    "```\n",
    "\n",
    "**Параметры:**  \n",
    "- `velocity_t` - текущая скорость машины (диапазон: [-0.07, 0.07] м/с)  \n",
    "- `action` - выбранное действие:  \n",
    "  - `0`: ускорение влево  \n",
    "  - `1`: без ускорения  \n",
    "  - `2`: ускорение вправо  \n",
    "- `force` - сила ускорения (константа: 0.001)  \n",
    "- `position_t` - текущая позиция машины (диапазон: [-1.2, 0.6] м)  \n",
    "- `gravity` - гравитационная постоянная (константа: 0.0025)  \n",
    "- `cos(3*position_t)` - косинус угла наклона в текущей позиции (значения: [-1, 1])  \n",
    "\n",
    "**Примечания:**  \n",
    "1. Выражение `(action - 1)` преобразует действие в числовые значения:  \n",
    "   - `-1` при ускорении влево  \n",
    "   - `0` при отсутствии ускорения  \n",
    "   - `+1` при ускорении вправо  \n",
    "2. Косинусный член создает синусоидальный рельеф с периодом 2π/3  \n",
    "3. Скорость и позиция автоматически ограничиваются указанными диапазонами  "
   ]
  },
  {
   "cell_type": "markdown",
   "metadata": {},
   "source": [
    "### Физика среды\n",
    "- **Столкновения**:  \n",
    "  При ударе о стену скорость мгновенно обнуляется\n",
    "- **Ограничения**:\n",
    "  - Позиция: `[-1.2, 0.6]` (метры)\n",
    "  - Скорость: `[-0.07, 0.07]` (м/с)\n",
    "\n",
    "### Награда\n",
    "- **Формула**: `-1` за каждый шаг\n",
    "- **Цель**:  \n",
    "  Минимизировать время достижения флага на вершине (правый холм)\n",
    "\n",
    "### Инициализация\n",
    "- **Стартовая позиция**:  \n",
    "  Равномерно распределена в диапазоне `[-0.6, -0.4]`\n",
    "- **Начальная скорость**:  \n",
    "  Всегда `0.0` м/с\n",
    "\n",
    "### Условия завершения\n",
    "| Тип          | Условие                          | Лимит шагов |\n",
    "|--------------|----------------------------------|-------------|\n",
    "| **Terminated** | Позиция ≥ `0.5` (цель)          | -           |\n",
    "| **Truncated**  | Достигнут максимум шагов (`200`) | 200         |"
   ]
  },
  {
   "cell_type": "markdown",
   "metadata": {},
   "source": [
    "**Аргументы**\n",
    "\n",
    "При создании среды (gymnasium.make) можно указать:\n",
    "\n",
    "**render_mode**\n",
    "\n",
    "**goal_velocity**\n",
    "\n",
    "Пример:\n",
    "\n",
    "```python\n",
    "import gymnasium as gym\n",
    "env = gym.make(\"MountainCar-v0\", render_mode=\"rgb_array\", goal_velocity=0.1)  # goal_velocity=0 по умолчанию\n",
    "env.reset(seed=123, options={\"x_init\": np.pi/2, \"y_init\": 0.5})  # x_init=np.pi, y_init=1.0 по умолчанию"
   ]
  },
  {
   "cell_type": "code",
   "execution_count": 7,
   "metadata": {
    "tags": []
   },
   "outputs": [
    {
     "name": "stdout",
     "output_type": "stream",
     "text": [
      "Observation space: Box([-1.2  -0.07], [0.6  0.07], (2,), float32)\n"
     ]
    }
   ],
   "source": [
    "print(\"Observation space:\", env.observation_space)"
   ]
  },
  {
   "cell_type": "code",
   "execution_count": 8,
   "metadata": {
    "tags": []
   },
   "outputs": [
    {
     "name": "stdout",
     "output_type": "stream",
     "text": [
      "Action space: Discrete(3)\n"
     ]
    }
   ],
   "source": [
    "print(\"Action space:\", env.action_space)"
   ]
  },
  {
   "cell_type": "markdown",
   "metadata": {},
   "source": [
    "Примечание: если вы запускаете это на локальном компьютере, появится окно с изображением выше. Не закрывайте его — просто переключитесь на другое окно (Alt+Tab)."
   ]
  },
  {
   "cell_type": "markdown",
   "metadata": {},
   "source": [
    "### Интерфейс Gymnasium  \n",
    "[Основы использования](https://gymnasium.farama.org/content/basic_usage/)  \n",
    "\n",
    "Три основных метода среды:  \n",
    "\n",
    "* `reset()`: Сбрасывает среду в начальное состояние и **_возвращает первое наблюдение_**  \n",
    "* `render()`: Визуализирует текущее состояние среды (более красочная версия :) )  \n",
    "* `step(a)`: Выполняет действие `a` и возвращает кортеж:  \n",
    "  `(новое_наблюдение, награда, terminated, truncated, info)`  \n",
    "  * `новое_наблюдение`: Состояние среды сразу после выполнения действия `a`  \n",
    "  * `награда`: Число, представляющее награду за выполнение действия `a`  \n",
    "  * `terminated`: `True`, если МПП завершился, `False` если продолжается  \n",
    "  * `truncated`: `True`, если достигнут лимит шагов, `False` если продолжается  \n",
    "  * `info`: Дополнительная информация (пока можно игнорировать)  \n",
    "\n"
   ]
  },
  {
   "cell_type": "code",
   "execution_count": 9,
   "metadata": {
    "tags": []
   },
   "outputs": [
    {
     "name": "stdout",
     "output_type": "stream",
     "text": [
      "начальное наблюдение (код): (array([-0.564012,  0.      ], dtype=float32), {})\n"
     ]
    }
   ],
   "source": [
    "obs0 = env.reset()\n",
    "print(\"начальное наблюдение (код):\", obs0)\n",
    "\n",
    "# Примечание: в MountainCar наблюдение — это всего два числа: позиция и скорость машины"
   ]
  },
  {
   "cell_type": "code",
   "execution_count": 10,
   "metadata": {
    "tags": []
   },
   "outputs": [
    {
     "name": "stdout",
     "output_type": "stream",
     "text": [
      "выполняем действие 2 (вправо)\n",
      "новое наблюдение (код): [-0.5627096   0.00130236]\n",
      "награда: -1.0\n",
      "эпизод завершён?: False\n",
      "превышено максимальное число шагов в эпизоде?: False\n"
     ]
    }
   ],
   "source": [
    "print(\"выполняем действие 2 (вправо)\")\n",
    "new_obs, reward, terminated, truncated, _ = env.step(2)\n",
    "\n",
    "print(\"новое наблюдение (код):\", new_obs)\n",
    "print(\"награда:\", reward)\n",
    "print(\"эпизод завершён?:\", terminated)\n",
    "print(\"превышено максимальное число шагов в эпизоде?:\", truncated)\n",
    "\n",
    "# Примечание: как видно, машина немного сдвинулась вправо (примерно на 0.0005)\n"
   ]
  },
  {
   "cell_type": "markdown",
   "metadata": {},
   "source": [
    "### Поиграйтесь с этим\n",
    "\n",
    "Ниже приведён код, который просто толкает машину вправо. Однако при использовании такой наивной стратегии машина не доберётся до флажка справа — ей будет мешать гравитация.\n",
    "\n",
    "__Ваша задача__ — исправить это. Придумайте стратегию, которая позволит машине достичь флажка.\n",
    "\n",
    "Пока не нужно строить какие-либо сложные алгоритмы, и уж точно не обязательно знать усиленное обучение. Можете просто захардкодить решение :)\n"
   ]
  },
  {
   "cell_type": "code",
   "execution_count": 11,
   "metadata": {
    "tags": []
   },
   "outputs": [],
   "source": [
    "from IPython import display\n",
    "\n",
    "# Создаём окружение вручную, чтобы задать ограничение по времени. Пожалуйста, не изменяйте это.\n",
    "TIME_LIMIT = 250\n",
    "env = gym.wrappers.TimeLimit(\n",
    "    gym.envs.classic_control.MountainCarEnv(),\n",
    "    max_episode_steps=TIME_LIMIT + 1,\n",
    ")\n",
    "actions = {'left': 0, 'stop': 1, 'right': 2}\n"
   ]
  },
  {
   "cell_type": "code",
   "execution_count": 12,
   "metadata": {
    "tags": []
   },
   "outputs": [],
   "source": [
    "def policy(obs, t, start=-1, hist: list = None):\n",
    "    position, velocity = obs\n",
    "    # print(position, velocity)\n",
    "    srt_pos =  -0.474639\n",
    "    st = start\n",
    "    course ={\n",
    "        -1: \"left\",\n",
    "        1: \"right\",\n",
    "        0: \"stop\"\n",
    "    }\n",
    "    if not velocity:\n",
    "        return actions[course[st]]\n",
    "    eps = 0.0005\n",
    "    if -velocity < -eps:\n",
    "      st=1\n",
    "    if velocity < eps:\n",
    "      st=-1\n",
    "    # print(st)\n",
    "    return actions[course[st]]\n",
    "\n"
   ]
  },
  {
   "cell_type": "code",
   "execution_count": 13,
   "metadata": {
    "tags": []
   },
   "outputs": [
    {
     "name": "stdout",
     "output_type": "stream",
     "text": [
      "Отлично, вы справились!\n"
     ]
    }
   ],
   "source": [
    "env = gym.make(\"MountainCar-v0\", render_mode=\"rgb_array\")\n",
    "plt.figure(figsize=(4, 3))\n",
    "display.clear_output(wait=True)\n",
    "\n",
    "obs = env.reset()\n",
    "for t in range(TIME_LIMIT):\n",
    "    time.sleep(0.3)\n",
    "    plt.gca().clear()\n",
    "    \n",
    "    action = policy(obs, t)  # Вызываем вашу стратегию\n",
    "    obs, reward, terminated, truncated, _ = env.step(action)  # Передаём выбранное действие в окружение\n",
    "    \n",
    "    # Здесь мы не используем награду, потому что в MountainCar она всегда -1.\n",
    "    # Поэтому цель — как можно быстрее завершить эпизод.\n",
    "\n",
    "    # Отображаем картинку из игры.\n",
    "    plt.imshow(env.render());\n",
    "    \n",
    "    display.display(plt.gcf())\n",
    "    display.clear_output(wait=True)\n",
    "\n",
    "    if terminated:\n",
    "        print(\"Отлично, вы справились!\")\n",
    "        break\n",
    "    if truncated:\n",
    "        print(\"Время вышло. Попробуйте снова.\")\n",
    "\n",
    "display.clear_output(wait=True)\n"
   ]
  },
  {
   "cell_type": "code",
   "execution_count": 14,
   "metadata": {
    "tags": []
   },
   "outputs": [
    {
     "name": "stdout",
     "output_type": "stream",
     "text": [
      "Задача решена!\n"
     ]
    }
   ],
   "source": [
    "assert obs[0] > 0.47\n",
    "print(\"Задача решена!\")"
   ]
  },
  {
   "cell_type": "code",
   "execution_count": null,
   "metadata": {},
   "outputs": [],
   "source": []
  }
 ],
 "metadata": {
  "kernelspec": {
   "display_name": "Python 3 (ipykernel)",
   "language": "python",
   "name": "python3"
  },
  "language_info": {
   "codemirror_mode": {
    "name": "ipython",
    "version": 3
   },
   "file_extension": ".py",
   "mimetype": "text/x-python",
   "name": "python",
   "nbconvert_exporter": "python",
   "pygments_lexer": "ipython3",
   "version": "3.12.7"
  },
  "toc-autonumbering": false
 },
 "nbformat": 4,
 "nbformat_minor": 4
}
